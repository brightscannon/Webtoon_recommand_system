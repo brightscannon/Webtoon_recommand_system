{
 "cells": [
  {
   "cell_type": "markdown",
   "metadata": {},
   "source": [
    "### CNN network를 활용하여 이미지간 유사도\n",
    ": pixel값을 column으로 하여 유사도를 구한다.\n",
    "1. training을 시킨 model의 _dense를 추출하여 유사도를 구한다.\n",
    "2. CNN을 통과시켜 feature의 차원이 축소된 이미지 특성값으로 유사도를 구한다."
   ]
  },
  {
   "cell_type": "code",
   "execution_count": 4,
   "metadata": {},
   "outputs": [
    {
     "data": {
      "text/plain": [
       "'C:\\\\Users\\\\Juno\\\\Desktop\\\\juno_project\\\\Webtoon-Recommender_System'"
      ]
     },
     "execution_count": 4,
     "metadata": {},
     "output_type": "execute_result"
    }
   ],
   "source": [
    "import tensorflow as tf\n",
    "from PIL import Image as pil\n",
    "from scipy.misc import imread, imresize\n",
    "import os\n",
    "from scipy import ndimage\n",
    "from six.moves import urllib\n",
    "\n",
    "cwd = os.getcwd()\n",
    "cwd"
   ]
  },
  {
   "cell_type": "code",
   "execution_count": 89,
   "metadata": {},
   "outputs": [
    {
     "name": "stdout",
     "output_type": "stream",
     "text": [
      "C:\\Users\\Juno\\Desktop\\juno_project\\Webtoon-Recommender_System./0_img/main_image_naver/color/\n",
      "now: 0 finished!!:\r",
      "now: 1 finished!!:\r",
      "now: 2 finished!!:\r",
      "now: 3 finished!!:\r",
      "now: 4 finished!!:\r",
      "now: 5 finished!!:\r",
      "now: 6 finished!!:\r",
      "now: 7 finished!!:\r",
      "now: 8 finished!!:\r",
      "now: 9 finished!!:\r",
      "now: 10 finished!!:\r",
      "now: 11 finished!!:\r",
      "now: 12 finished!!:\r",
      "now: 13 finished!!:\r",
      "now: 14 finished!!:\r",
      "now: 15 finished!!:\r",
      "now: 16 finished!!:\r",
      "now: 17 finished!!:\r",
      "now: 18 finished!!:\r",
      "now: 19 finished!!:\r",
      "now: 20 finished!!:\r",
      "now: 21 finished!!:\r",
      "now: 22 finished!!:\r",
      "now: 23 finished!!:\r",
      "now: 24 finished!!:\r",
      "now: 25 finished!!:\r",
      "now: 26 finished!!:\r"
     ]
    },
    {
     "name": "stderr",
     "output_type": "stream",
     "text": [
      "C:\\ProgramData\\Anaconda3\\lib\\site-packages\\ipykernel_launcher.py:23: DeprecationWarning: `imresize` is deprecated!\n",
      "`imresize` is deprecated in SciPy 1.0.0, and will be removed in 1.2.0.\n",
      "Use ``skimage.transform.resize`` instead.\n"
     ]
    },
    {
     "name": "stdout",
     "output_type": "stream",
     "text": [
      "Total 745 images loaded.\n"
     ]
    }
   ],
   "source": [
    "# 웹툰 labeling을 위한 dictionary를 만든다.\n",
    "\n",
    "# Load info\n",
    "info = pd.read_csv(\"data_Juno/webtoon_naver_info_by_genres.csv\")\n",
    "\n",
    "# make dict\n",
    "dic = {}\n",
    "for i, id in enumerate(info.unique_id):\n",
    "    dic[id] = i\n",
    "\n",
    "path = cwd + \"./0_img/main_image_naver/color/\"\n",
    "print(path)\n",
    "flist = os.listdir(path)\n",
    "n_class = len(dic)\n",
    "imgcnt = 0\n",
    "for f in flist:\n",
    "    fullpath = os.path.join(path,f)\n",
    "    currimg = np.asarray(pil.open(fullpath).convert(\"RGB\"))\n",
    "    img = currimg / 255.\n",
    "#     print(img.shape)\n",
    "#     print(imresize(img, (64,64)).shape)\n",
    "#     print(img)\n",
    "    img_r = imresize(img, (32,32))\n",
    "    imgvec = np.reshape(img_r, (1,-1))\n",
    "    \n",
    "    # make labels\n",
    "    id_check = int(f.split(\".\")[0])\n",
    "    label = dic[id_check]\n",
    "    curr_label = np.eye(n_class, n_class)[label:label+1, :]\n",
    "    if imgcnt == 0:\n",
    "        totalimg = imgvec\n",
    "        totallabel = curr_label\n",
    "    else:\n",
    "        totalimg = np.concatenate((totalimg, imgvec), axis=0)\n",
    "        totallabel = np.concatenate((totallabel, curr_label), axis=0)\n",
    "    print(\"now: %s finished!!:\" % imgcnt, end='\\r')\n",
    "    imgcnt += 1\n",
    "print (\"Total %d images loaded.\" % (imgcnt))"
   ]
  },
  {
   "cell_type": "code",
   "execution_count": 5,
   "metadata": {},
   "outputs": [
    {
     "name": "stdout",
     "output_type": "stream",
     "text": [
      "Model is defined!!\n"
     ]
    }
   ],
   "source": [
    "n_input = 3072\n",
    "n_channel = 32 # convolution filter의 갯수\n",
    "n_classes = 745\n",
    "n_imgch = 3\n",
    "x = tf.placeholder(dtype='float', shape=[None, n_input])\n",
    "y = tf.placeholder(dtype='float', shape=[None, n_classes])\n",
    "\n",
    "stddev = 0.1\n",
    "# convolution filters\n",
    "weights = {\n",
    "    'c1' : tf.Variable(initial_value=tf.random_normal(shape=[3,3,n_imgch,n_channel], stddev=stddev)),\n",
    "    'c2' : tf.Variable(initial_value=tf.random_normal(shape=[3,3,n_channel,32], stddev=stddev)),\n",
    "    'c3' : tf.Variable(initial_value=tf.random_normal(shape=[3,3,32,32], stddev=stddev)),\n",
    "    'd1' : tf.Variable(initial_value=tf.random_normal(shape=[4*4*32,n_classes], stddev=stddev)),\n",
    "}\n",
    "biases = {\n",
    "    'c1' : tf.Variable(initial_value=tf.random_normal(shape=[n_channel], stddev=stddev)),\n",
    "    'c2' : tf.Variable(initial_value=tf.random_normal(shape=[32], stddev=stddev)),\n",
    "    'c3' : tf.Variable(initial_value=tf.random_normal(shape=[32], stddev=stddev)),\n",
    "    'd1' : tf.Variable(initial_value=tf.random_normal(shape=[n_classes], stddev=stddev)),\n",
    "}\n",
    "print(\"Model is defined!!\")"
   ]
  },
  {
   "cell_type": "code",
   "execution_count": 6,
   "metadata": {},
   "outputs": [],
   "source": [
    "def CNN(_x, _w, _b):\n",
    "    # Reshape\n",
    "    _x_r = tf.reshape(_x, shape=[-1,32,32,3])\n",
    "    # Convolution\n",
    "    _conv1 = tf.nn.conv2d(_x_r, _w['c1'], strides=[1,1,1,1], padding='SAME') # zero-padding\n",
    "    # add bias\n",
    "    _conv2 = tf.nn.bias_add(_conv1, _b['c1'])\n",
    "    # Passing the ReLU\n",
    "    _conv3 = tf.nn.relu(_conv2)\n",
    "    # max pooling\n",
    "    # non-overlapping\n",
    "    _pool = tf.nn.max_pool(_conv3, ksize=[1,2,2,1], strides=[1,2,2,1], padding='SAME')\n",
    "    \n",
    "    # 2nd Convolutional Layer\n",
    "    _second = tf.nn.conv2d(_pool, _w['c2'], strides=[1,1,1,1], padding='SAME')\n",
    "    _second = tf.nn.bias_add(_second, _b['c2'])\n",
    "    _second = tf.nn.relu(_second)\n",
    "    _second = tf.nn.max_pool(_second, ksize=[1,2,2,1], strides=[1,2,2,1], padding='SAME')\n",
    "    \n",
    "    # 3rd Convolutional Layer\n",
    "    _third = tf.nn.conv2d(_second, _w['c3'], strides=[1,1,1,1], padding='SAME')\n",
    "    _third = tf.nn.bias_add(_third, _b['c3'])\n",
    "    _third = tf.nn.relu(_third)\n",
    "    _third = tf.nn.max_pool(_third, ksize=[1,2,2,1], strides=[1,2,2,1], padding='SAME')\n",
    "    \n",
    "    # fully connected layer, 한 줄로 쫙 편다.\n",
    "    _dense = tf.reshape(_third, shape=[-1,  _w['d1'].get_shape().as_list()[0]])\n",
    "    _logit = tf.add(tf.matmul(_dense, _w['d1']),_b['d1'])\n",
    "    \n",
    "    # Return to dict type\n",
    "    _out = {\n",
    "        'x_r':_x_r, 'conv1':_conv1, 'conv2' : _conv2, 'conv3': _conv3,\n",
    "        'pool': _pool, 'dense': _dense, 'logit':_logit\n",
    "    }\n",
    "    return _out"
   ]
  },
  {
   "cell_type": "code",
   "execution_count": 13,
   "metadata": {},
   "outputs": [],
   "source": [
    "cnnout = CNN(x, weights, biases)\n",
    "features = cnnout['dense']"
   ]
  },
  {
   "cell_type": "markdown",
   "metadata": {},
   "source": [
    "**1. training을 시킨 model의 _dense를 추출하여 유사도를 구한다.**"
   ]
  },
  {
   "cell_type": "code",
   "execution_count": 15,
   "metadata": {},
   "outputs": [
    {
     "name": "stdout",
     "output_type": "stream",
     "text": [
      "LOADING [./3_NeuralNet_image/main_image/net-9.ckpt]\n",
      "INFO:tensorflow:Restoring parameters from ./3_NeuralNet_image/main_image/net-9.ckpt\n"
     ]
    }
   ],
   "source": [
    "savedir = \"./3_NeuralNet_image/main_image/\"\n",
    "saver = tf.train.Saver()\n",
    "sess = tf.Session()\n",
    "sess.run(tf.global_variables_initializer())\n",
    "best_epoch = 9\n",
    "restorename = savedir + \"net-\" + str(best_epoch) + \".ckpt\"\n",
    "print (\"LOADING [%s]\" % (restorename))\n",
    "saver.restore(sess, restorename)\n",
    "result = sess.run(features, feed_dict={x:totalimg})\n"
   ]
  },
  {
   "cell_type": "code",
   "execution_count": 57,
   "metadata": {},
   "outputs": [],
   "source": [
    "from sklearn.metrics.pairwise import linear_kernel, cosine_similarity, euclidean_distances"
   ]
  },
  {
   "cell_type": "code",
   "execution_count": 39,
   "metadata": {},
   "outputs": [
    {
     "data": {
      "text/plain": [
       "((1, 512), (745, 512))"
      ]
     },
     "execution_count": 39,
     "metadata": {},
     "output_type": "execute_result"
    }
   ],
   "source": [
    "result[0].reshape((1,-1)).shape, result.shape"
   ]
  },
  {
   "cell_type": "code",
   "execution_count": 60,
   "metadata": {},
   "outputs": [
    {
     "data": {
      "text/plain": [
       "array([498,  74,  73, 226,  51], dtype=int64)"
      ]
     },
     "execution_count": 60,
     "metadata": {},
     "output_type": "execute_result"
    }
   ],
   "source": [
    "cosine_similar = linear_kernel(result[0].reshape((1,-1)), result).flatten()\n",
    "# 위 코드는 아래와 같은 역할을 한다\n",
    "# cosine_similar = (srch_vector*X.T).toarray().flatten()\n",
    "\n",
    "# 유사한 rawdata index\n",
    "sim_rank_idx = cosine_similar.argsort()[::-1]\n",
    "sim_rank_idx[:5]"
   ]
  },
  {
   "cell_type": "code",
   "execution_count": 62,
   "metadata": {},
   "outputs": [
    {
     "data": {
      "text/plain": [
       "array([  1, 622, 552, 676, 593], dtype=int64)"
      ]
     },
     "execution_count": 62,
     "metadata": {},
     "output_type": "execute_result"
    }
   ],
   "source": [
    "cosine_similar = euclidean_distances(result[1].reshape((1,-1)), result).flatten()\n",
    "sim_rank_idx = cosine_similar.argsort()\n",
    "sim_rank_idx[:5]"
   ]
  },
  {
   "cell_type": "markdown",
   "metadata": {},
   "source": [
    "---\n",
    "**2. CNN을 통과시켜 feature의 차원이 축소된 이미지 특성값으로 유사도를 구한다.**"
   ]
  },
  {
   "cell_type": "code",
   "execution_count": 91,
   "metadata": {},
   "outputs": [],
   "source": [
    "total_image = np.array(totalimg, dtype='float32') / 255."
   ]
  },
  {
   "cell_type": "code",
   "execution_count": 92,
   "metadata": {},
   "outputs": [
    {
     "data": {
      "text/plain": [
       "(745, 3072)"
      ]
     },
     "execution_count": 92,
     "metadata": {},
     "output_type": "execute_result"
    }
   ],
   "source": [
    "total_image.shape"
   ]
  },
  {
   "cell_type": "code",
   "execution_count": 96,
   "metadata": {},
   "outputs": [],
   "source": [
    "sess = tf.Session()\n",
    "sess.run(tf.global_variables_initializer())"
   ]
  },
  {
   "cell_type": "code",
   "execution_count": 97,
   "metadata": {},
   "outputs": [],
   "source": [
    "cnnout = CNN(x, weights, biases)\n",
    "features = cnnout['dense']\n",
    "result = sess.run(features, feed_dict={x:total_image})"
   ]
  },
  {
   "cell_type": "code",
   "execution_count": 99,
   "metadata": {},
   "outputs": [
    {
     "data": {
      "text/plain": [
       "(745, 512)"
      ]
     },
     "execution_count": 99,
     "metadata": {},
     "output_type": "execute_result"
    }
   ],
   "source": [
    "result.shape"
   ]
  },
  {
   "cell_type": "code",
   "execution_count": 106,
   "metadata": {},
   "outputs": [
    {
     "data": {
      "text/plain": [
       "array([  1,   0, 325, 552, 651, 250, 167, 516, 160, 432], dtype=int64)"
      ]
     },
     "execution_count": 106,
     "metadata": {},
     "output_type": "execute_result"
    }
   ],
   "source": [
    "euclidean_dist = euclidean_distances(result[1].reshape((1,-1)), result).flatten()\n",
    "sim_rank_idx = euclidean_dist.argsort()\n",
    "sim_rank_idx[:10]"
   ]
  },
  {
   "cell_type": "code",
   "execution_count": 101,
   "metadata": {},
   "outputs": [],
   "source": [
    "dic2 = {}\n",
    "for k, v in dic.items():\n",
    "    dic2[v] = k"
   ]
  },
  {
   "cell_type": "code",
   "execution_count": 107,
   "metadata": {},
   "outputs": [
    {
     "data": {
      "text/plain": [
       "670143"
      ]
     },
     "execution_count": 107,
     "metadata": {},
     "output_type": "execute_result"
    }
   ],
   "source": [
    "dic2[250]"
   ]
  },
  {
   "cell_type": "markdown",
   "metadata": {},
   "source": [
    "**둘 다 크게 좋은 결과를 도출해내지 못하였다.**"
   ]
  },
  {
   "cell_type": "markdown",
   "metadata": {},
   "source": [
    "---\n",
    "**3.tensorflow_hub을 이용하여 이미지 특징 도출 후 similarity 계산**"
   ]
  },
  {
   "cell_type": "code",
   "execution_count": 5,
   "metadata": {},
   "outputs": [],
   "source": [
    "import tensorflow as tf\n",
    "import os\n",
    "cwd = os.getcwd()"
   ]
  },
  {
   "cell_type": "code",
   "execution_count": 2,
   "metadata": {
    "collapsed": true
   },
   "outputs": [
    {
     "name": "stdout",
     "output_type": "stream",
     "text": [
      "INFO:tensorflow:Using C:\\Users\\Juno\\AppData\\Local\\Temp\\tfhub_modules to cache modules.\n",
      "INFO:tensorflow:Initialize variable module/MobilenetV2/Conv/BatchNorm/beta:0 from checkpoint b'C:\\\\Users\\\\Juno\\\\AppData\\\\Local\\\\Temp\\\\tfhub_modules\\\\3f2c9799c0f3aa9c272fc55e33d45daf10a9b3a0\\\\variables\\\\variables' with MobilenetV2/Conv/BatchNorm/beta\n",
      "INFO:tensorflow:Initialize variable module/MobilenetV2/Conv/BatchNorm/gamma:0 from checkpoint b'C:\\\\Users\\\\Juno\\\\AppData\\\\Local\\\\Temp\\\\tfhub_modules\\\\3f2c9799c0f3aa9c272fc55e33d45daf10a9b3a0\\\\variables\\\\variables' with MobilenetV2/Conv/BatchNorm/gamma\n",
      "INFO:tensorflow:Initialize variable module/MobilenetV2/Conv/BatchNorm/moving_mean:0 from checkpoint b'C:\\\\Users\\\\Juno\\\\AppData\\\\Local\\\\Temp\\\\tfhub_modules\\\\3f2c9799c0f3aa9c272fc55e33d45daf10a9b3a0\\\\variables\\\\variables' with MobilenetV2/Conv/BatchNorm/moving_mean\n",
      "INFO:tensorflow:Initialize variable module/MobilenetV2/Conv/BatchNorm/moving_variance:0 from checkpoint b'C:\\\\Users\\\\Juno\\\\AppData\\\\Local\\\\Temp\\\\tfhub_modules\\\\3f2c9799c0f3aa9c272fc55e33d45daf10a9b3a0\\\\variables\\\\variables' with MobilenetV2/Conv/BatchNorm/moving_variance\n",
      "INFO:tensorflow:Initialize variable module/MobilenetV2/Conv/weights:0 from checkpoint b'C:\\\\Users\\\\Juno\\\\AppData\\\\Local\\\\Temp\\\\tfhub_modules\\\\3f2c9799c0f3aa9c272fc55e33d45daf10a9b3a0\\\\variables\\\\variables' with MobilenetV2/Conv/weights\n",
      "INFO:tensorflow:Initialize variable module/MobilenetV2/Conv_1/BatchNorm/beta:0 from checkpoint b'C:\\\\Users\\\\Juno\\\\AppData\\\\Local\\\\Temp\\\\tfhub_modules\\\\3f2c9799c0f3aa9c272fc55e33d45daf10a9b3a0\\\\variables\\\\variables' with MobilenetV2/Conv_1/BatchNorm/beta\n",
      "INFO:tensorflow:Initialize variable module/MobilenetV2/Conv_1/BatchNorm/gamma:0 from checkpoint b'C:\\\\Users\\\\Juno\\\\AppData\\\\Local\\\\Temp\\\\tfhub_modules\\\\3f2c9799c0f3aa9c272fc55e33d45daf10a9b3a0\\\\variables\\\\variables' with MobilenetV2/Conv_1/BatchNorm/gamma\n",
      "INFO:tensorflow:Initialize variable module/MobilenetV2/Conv_1/BatchNorm/moving_mean:0 from checkpoint b'C:\\\\Users\\\\Juno\\\\AppData\\\\Local\\\\Temp\\\\tfhub_modules\\\\3f2c9799c0f3aa9c272fc55e33d45daf10a9b3a0\\\\variables\\\\variables' with MobilenetV2/Conv_1/BatchNorm/moving_mean\n",
      "INFO:tensorflow:Initialize variable module/MobilenetV2/Conv_1/BatchNorm/moving_variance:0 from checkpoint b'C:\\\\Users\\\\Juno\\\\AppData\\\\Local\\\\Temp\\\\tfhub_modules\\\\3f2c9799c0f3aa9c272fc55e33d45daf10a9b3a0\\\\variables\\\\variables' with MobilenetV2/Conv_1/BatchNorm/moving_variance\n",
      "INFO:tensorflow:Initialize variable module/MobilenetV2/Conv_1/weights:0 from checkpoint b'C:\\\\Users\\\\Juno\\\\AppData\\\\Local\\\\Temp\\\\tfhub_modules\\\\3f2c9799c0f3aa9c272fc55e33d45daf10a9b3a0\\\\variables\\\\variables' with MobilenetV2/Conv_1/weights\n",
      "INFO:tensorflow:Initialize variable module/MobilenetV2/expanded_conv/depthwise/BatchNorm/beta:0 from checkpoint b'C:\\\\Users\\\\Juno\\\\AppData\\\\Local\\\\Temp\\\\tfhub_modules\\\\3f2c9799c0f3aa9c272fc55e33d45daf10a9b3a0\\\\variables\\\\variables' with MobilenetV2/expanded_conv/depthwise/BatchNorm/beta\n",
      "INFO:tensorflow:Initialize variable module/MobilenetV2/expanded_conv/depthwise/BatchNorm/gamma:0 from checkpoint b'C:\\\\Users\\\\Juno\\\\AppData\\\\Local\\\\Temp\\\\tfhub_modules\\\\3f2c9799c0f3aa9c272fc55e33d45daf10a9b3a0\\\\variables\\\\variables' with MobilenetV2/expanded_conv/depthwise/BatchNorm/gamma\n",
      "INFO:tensorflow:Initialize variable module/MobilenetV2/expanded_conv/depthwise/BatchNorm/moving_mean:0 from checkpoint b'C:\\\\Users\\\\Juno\\\\AppData\\\\Local\\\\Temp\\\\tfhub_modules\\\\3f2c9799c0f3aa9c272fc55e33d45daf10a9b3a0\\\\variables\\\\variables' with MobilenetV2/expanded_conv/depthwise/BatchNorm/moving_mean\n",
      "INFO:tensorflow:Initialize variable module/MobilenetV2/expanded_conv/depthwise/BatchNorm/moving_variance:0 from checkpoint b'C:\\\\Users\\\\Juno\\\\AppData\\\\Local\\\\Temp\\\\tfhub_modules\\\\3f2c9799c0f3aa9c272fc55e33d45daf10a9b3a0\\\\variables\\\\variables' with MobilenetV2/expanded_conv/depthwise/BatchNorm/moving_variance\n",
      "INFO:tensorflow:Initialize variable module/MobilenetV2/expanded_conv/depthwise/depthwise_weights:0 from checkpoint b'C:\\\\Users\\\\Juno\\\\AppData\\\\Local\\\\Temp\\\\tfhub_modules\\\\3f2c9799c0f3aa9c272fc55e33d45daf10a9b3a0\\\\variables\\\\variables' with MobilenetV2/expanded_conv/depthwise/depthwise_weights\n",
      "INFO:tensorflow:Initialize variable module/MobilenetV2/expanded_conv/project/BatchNorm/beta:0 from checkpoint b'C:\\\\Users\\\\Juno\\\\AppData\\\\Local\\\\Temp\\\\tfhub_modules\\\\3f2c9799c0f3aa9c272fc55e33d45daf10a9b3a0\\\\variables\\\\variables' with MobilenetV2/expanded_conv/project/BatchNorm/beta\n",
      "INFO:tensorflow:Initialize variable module/MobilenetV2/expanded_conv/project/BatchNorm/gamma:0 from checkpoint b'C:\\\\Users\\\\Juno\\\\AppData\\\\Local\\\\Temp\\\\tfhub_modules\\\\3f2c9799c0f3aa9c272fc55e33d45daf10a9b3a0\\\\variables\\\\variables' with MobilenetV2/expanded_conv/project/BatchNorm/gamma\n",
      "INFO:tensorflow:Initialize variable module/MobilenetV2/expanded_conv/project/BatchNorm/moving_mean:0 from checkpoint b'C:\\\\Users\\\\Juno\\\\AppData\\\\Local\\\\Temp\\\\tfhub_modules\\\\3f2c9799c0f3aa9c272fc55e33d45daf10a9b3a0\\\\variables\\\\variables' with MobilenetV2/expanded_conv/project/BatchNorm/moving_mean\n",
      "INFO:tensorflow:Initialize variable module/MobilenetV2/expanded_conv/project/BatchNorm/moving_variance:0 from checkpoint b'C:\\\\Users\\\\Juno\\\\AppData\\\\Local\\\\Temp\\\\tfhub_modules\\\\3f2c9799c0f3aa9c272fc55e33d45daf10a9b3a0\\\\variables\\\\variables' with MobilenetV2/expanded_conv/project/BatchNorm/moving_variance\n",
      "INFO:tensorflow:Initialize variable module/MobilenetV2/expanded_conv/project/weights:0 from checkpoint b'C:\\\\Users\\\\Juno\\\\AppData\\\\Local\\\\Temp\\\\tfhub_modules\\\\3f2c9799c0f3aa9c272fc55e33d45daf10a9b3a0\\\\variables\\\\variables' with MobilenetV2/expanded_conv/project/weights\n",
      "INFO:tensorflow:Initialize variable module/MobilenetV2/expanded_conv_1/depthwise/BatchNorm/beta:0 from checkpoint b'C:\\\\Users\\\\Juno\\\\AppData\\\\Local\\\\Temp\\\\tfhub_modules\\\\3f2c9799c0f3aa9c272fc55e33d45daf10a9b3a0\\\\variables\\\\variables' with MobilenetV2/expanded_conv_1/depthwise/BatchNorm/beta\n",
      "INFO:tensorflow:Initialize variable module/MobilenetV2/expanded_conv_1/depthwise/BatchNorm/gamma:0 from checkpoint b'C:\\\\Users\\\\Juno\\\\AppData\\\\Local\\\\Temp\\\\tfhub_modules\\\\3f2c9799c0f3aa9c272fc55e33d45daf10a9b3a0\\\\variables\\\\variables' with MobilenetV2/expanded_conv_1/depthwise/BatchNorm/gamma\n",
      "INFO:tensorflow:Initialize variable module/MobilenetV2/expanded_conv_1/depthwise/BatchNorm/moving_mean:0 from checkpoint b'C:\\\\Users\\\\Juno\\\\AppData\\\\Local\\\\Temp\\\\tfhub_modules\\\\3f2c9799c0f3aa9c272fc55e33d45daf10a9b3a0\\\\variables\\\\variables' with MobilenetV2/expanded_conv_1/depthwise/BatchNorm/moving_mean\n",
      "INFO:tensorflow:Initialize variable module/MobilenetV2/expanded_conv_1/depthwise/BatchNorm/moving_variance:0 from checkpoint b'C:\\\\Users\\\\Juno\\\\AppData\\\\Local\\\\Temp\\\\tfhub_modules\\\\3f2c9799c0f3aa9c272fc55e33d45daf10a9b3a0\\\\variables\\\\variables' with MobilenetV2/expanded_conv_1/depthwise/BatchNorm/moving_variance\n",
      "INFO:tensorflow:Initialize variable module/MobilenetV2/expanded_conv_1/depthwise/depthwise_weights:0 from checkpoint b'C:\\\\Users\\\\Juno\\\\AppData\\\\Local\\\\Temp\\\\tfhub_modules\\\\3f2c9799c0f3aa9c272fc55e33d45daf10a9b3a0\\\\variables\\\\variables' with MobilenetV2/expanded_conv_1/depthwise/depthwise_weights\n",
      "INFO:tensorflow:Initialize variable module/MobilenetV2/expanded_conv_1/expand/BatchNorm/beta:0 from checkpoint b'C:\\\\Users\\\\Juno\\\\AppData\\\\Local\\\\Temp\\\\tfhub_modules\\\\3f2c9799c0f3aa9c272fc55e33d45daf10a9b3a0\\\\variables\\\\variables' with MobilenetV2/expanded_conv_1/expand/BatchNorm/beta\n",
      "INFO:tensorflow:Initialize variable module/MobilenetV2/expanded_conv_1/expand/BatchNorm/gamma:0 from checkpoint b'C:\\\\Users\\\\Juno\\\\AppData\\\\Local\\\\Temp\\\\tfhub_modules\\\\3f2c9799c0f3aa9c272fc55e33d45daf10a9b3a0\\\\variables\\\\variables' with MobilenetV2/expanded_conv_1/expand/BatchNorm/gamma\n",
      "INFO:tensorflow:Initialize variable module/MobilenetV2/expanded_conv_1/expand/BatchNorm/moving_mean:0 from checkpoint b'C:\\\\Users\\\\Juno\\\\AppData\\\\Local\\\\Temp\\\\tfhub_modules\\\\3f2c9799c0f3aa9c272fc55e33d45daf10a9b3a0\\\\variables\\\\variables' with MobilenetV2/expanded_conv_1/expand/BatchNorm/moving_mean\n",
      "INFO:tensorflow:Initialize variable module/MobilenetV2/expanded_conv_1/expand/BatchNorm/moving_variance:0 from checkpoint b'C:\\\\Users\\\\Juno\\\\AppData\\\\Local\\\\Temp\\\\tfhub_modules\\\\3f2c9799c0f3aa9c272fc55e33d45daf10a9b3a0\\\\variables\\\\variables' with MobilenetV2/expanded_conv_1/expand/BatchNorm/moving_variance\n"
     ]
    },
    {
     "name": "stdout",
     "output_type": "stream",
     "text": [
      "INFO:tensorflow:Initialize variable module/MobilenetV2/expanded_conv_1/expand/weights:0 from checkpoint b'C:\\\\Users\\\\Juno\\\\AppData\\\\Local\\\\Temp\\\\tfhub_modules\\\\3f2c9799c0f3aa9c272fc55e33d45daf10a9b3a0\\\\variables\\\\variables' with MobilenetV2/expanded_conv_1/expand/weights\n",
      "INFO:tensorflow:Initialize variable module/MobilenetV2/expanded_conv_1/project/BatchNorm/beta:0 from checkpoint b'C:\\\\Users\\\\Juno\\\\AppData\\\\Local\\\\Temp\\\\tfhub_modules\\\\3f2c9799c0f3aa9c272fc55e33d45daf10a9b3a0\\\\variables\\\\variables' with MobilenetV2/expanded_conv_1/project/BatchNorm/beta\n",
      "INFO:tensorflow:Initialize variable module/MobilenetV2/expanded_conv_1/project/BatchNorm/gamma:0 from checkpoint b'C:\\\\Users\\\\Juno\\\\AppData\\\\Local\\\\Temp\\\\tfhub_modules\\\\3f2c9799c0f3aa9c272fc55e33d45daf10a9b3a0\\\\variables\\\\variables' with MobilenetV2/expanded_conv_1/project/BatchNorm/gamma\n",
      "INFO:tensorflow:Initialize variable module/MobilenetV2/expanded_conv_1/project/BatchNorm/moving_mean:0 from checkpoint b'C:\\\\Users\\\\Juno\\\\AppData\\\\Local\\\\Temp\\\\tfhub_modules\\\\3f2c9799c0f3aa9c272fc55e33d45daf10a9b3a0\\\\variables\\\\variables' with MobilenetV2/expanded_conv_1/project/BatchNorm/moving_mean\n",
      "INFO:tensorflow:Initialize variable module/MobilenetV2/expanded_conv_1/project/BatchNorm/moving_variance:0 from checkpoint b'C:\\\\Users\\\\Juno\\\\AppData\\\\Local\\\\Temp\\\\tfhub_modules\\\\3f2c9799c0f3aa9c272fc55e33d45daf10a9b3a0\\\\variables\\\\variables' with MobilenetV2/expanded_conv_1/project/BatchNorm/moving_variance\n",
      "INFO:tensorflow:Initialize variable module/MobilenetV2/expanded_conv_1/project/weights:0 from checkpoint b'C:\\\\Users\\\\Juno\\\\AppData\\\\Local\\\\Temp\\\\tfhub_modules\\\\3f2c9799c0f3aa9c272fc55e33d45daf10a9b3a0\\\\variables\\\\variables' with MobilenetV2/expanded_conv_1/project/weights\n",
      "INFO:tensorflow:Initialize variable module/MobilenetV2/expanded_conv_10/depthwise/BatchNorm/beta:0 from checkpoint b'C:\\\\Users\\\\Juno\\\\AppData\\\\Local\\\\Temp\\\\tfhub_modules\\\\3f2c9799c0f3aa9c272fc55e33d45daf10a9b3a0\\\\variables\\\\variables' with MobilenetV2/expanded_conv_10/depthwise/BatchNorm/beta\n",
      "INFO:tensorflow:Initialize variable module/MobilenetV2/expanded_conv_10/depthwise/BatchNorm/gamma:0 from checkpoint b'C:\\\\Users\\\\Juno\\\\AppData\\\\Local\\\\Temp\\\\tfhub_modules\\\\3f2c9799c0f3aa9c272fc55e33d45daf10a9b3a0\\\\variables\\\\variables' with MobilenetV2/expanded_conv_10/depthwise/BatchNorm/gamma\n",
      "INFO:tensorflow:Initialize variable module/MobilenetV2/expanded_conv_10/depthwise/BatchNorm/moving_mean:0 from checkpoint b'C:\\\\Users\\\\Juno\\\\AppData\\\\Local\\\\Temp\\\\tfhub_modules\\\\3f2c9799c0f3aa9c272fc55e33d45daf10a9b3a0\\\\variables\\\\variables' with MobilenetV2/expanded_conv_10/depthwise/BatchNorm/moving_mean\n",
      "INFO:tensorflow:Initialize variable module/MobilenetV2/expanded_conv_10/depthwise/BatchNorm/moving_variance:0 from checkpoint b'C:\\\\Users\\\\Juno\\\\AppData\\\\Local\\\\Temp\\\\tfhub_modules\\\\3f2c9799c0f3aa9c272fc55e33d45daf10a9b3a0\\\\variables\\\\variables' with MobilenetV2/expanded_conv_10/depthwise/BatchNorm/moving_variance\n",
      "INFO:tensorflow:Initialize variable module/MobilenetV2/expanded_conv_10/depthwise/depthwise_weights:0 from checkpoint b'C:\\\\Users\\\\Juno\\\\AppData\\\\Local\\\\Temp\\\\tfhub_modules\\\\3f2c9799c0f3aa9c272fc55e33d45daf10a9b3a0\\\\variables\\\\variables' with MobilenetV2/expanded_conv_10/depthwise/depthwise_weights\n",
      "INFO:tensorflow:Initialize variable module/MobilenetV2/expanded_conv_10/expand/BatchNorm/beta:0 from checkpoint b'C:\\\\Users\\\\Juno\\\\AppData\\\\Local\\\\Temp\\\\tfhub_modules\\\\3f2c9799c0f3aa9c272fc55e33d45daf10a9b3a0\\\\variables\\\\variables' with MobilenetV2/expanded_conv_10/expand/BatchNorm/beta\n",
      "INFO:tensorflow:Initialize variable module/MobilenetV2/expanded_conv_10/expand/BatchNorm/gamma:0 from checkpoint b'C:\\\\Users\\\\Juno\\\\AppData\\\\Local\\\\Temp\\\\tfhub_modules\\\\3f2c9799c0f3aa9c272fc55e33d45daf10a9b3a0\\\\variables\\\\variables' with MobilenetV2/expanded_conv_10/expand/BatchNorm/gamma\n",
      "INFO:tensorflow:Initialize variable module/MobilenetV2/expanded_conv_10/expand/BatchNorm/moving_mean:0 from checkpoint b'C:\\\\Users\\\\Juno\\\\AppData\\\\Local\\\\Temp\\\\tfhub_modules\\\\3f2c9799c0f3aa9c272fc55e33d45daf10a9b3a0\\\\variables\\\\variables' with MobilenetV2/expanded_conv_10/expand/BatchNorm/moving_mean\n",
      "INFO:tensorflow:Initialize variable module/MobilenetV2/expanded_conv_10/expand/BatchNorm/moving_variance:0 from checkpoint b'C:\\\\Users\\\\Juno\\\\AppData\\\\Local\\\\Temp\\\\tfhub_modules\\\\3f2c9799c0f3aa9c272fc55e33d45daf10a9b3a0\\\\variables\\\\variables' with MobilenetV2/expanded_conv_10/expand/BatchNorm/moving_variance\n",
      "INFO:tensorflow:Initialize variable module/MobilenetV2/expanded_conv_10/expand/weights:0 from checkpoint b'C:\\\\Users\\\\Juno\\\\AppData\\\\Local\\\\Temp\\\\tfhub_modules\\\\3f2c9799c0f3aa9c272fc55e33d45daf10a9b3a0\\\\variables\\\\variables' with MobilenetV2/expanded_conv_10/expand/weights\n",
      "INFO:tensorflow:Initialize variable module/MobilenetV2/expanded_conv_10/project/BatchNorm/beta:0 from checkpoint b'C:\\\\Users\\\\Juno\\\\AppData\\\\Local\\\\Temp\\\\tfhub_modules\\\\3f2c9799c0f3aa9c272fc55e33d45daf10a9b3a0\\\\variables\\\\variables' with MobilenetV2/expanded_conv_10/project/BatchNorm/beta\n",
      "INFO:tensorflow:Initialize variable module/MobilenetV2/expanded_conv_10/project/BatchNorm/gamma:0 from checkpoint b'C:\\\\Users\\\\Juno\\\\AppData\\\\Local\\\\Temp\\\\tfhub_modules\\\\3f2c9799c0f3aa9c272fc55e33d45daf10a9b3a0\\\\variables\\\\variables' with MobilenetV2/expanded_conv_10/project/BatchNorm/gamma\n",
      "INFO:tensorflow:Initialize variable module/MobilenetV2/expanded_conv_10/project/BatchNorm/moving_mean:0 from checkpoint b'C:\\\\Users\\\\Juno\\\\AppData\\\\Local\\\\Temp\\\\tfhub_modules\\\\3f2c9799c0f3aa9c272fc55e33d45daf10a9b3a0\\\\variables\\\\variables' with MobilenetV2/expanded_conv_10/project/BatchNorm/moving_mean\n",
      "INFO:tensorflow:Initialize variable module/MobilenetV2/expanded_conv_10/project/BatchNorm/moving_variance:0 from checkpoint b'C:\\\\Users\\\\Juno\\\\AppData\\\\Local\\\\Temp\\\\tfhub_modules\\\\3f2c9799c0f3aa9c272fc55e33d45daf10a9b3a0\\\\variables\\\\variables' with MobilenetV2/expanded_conv_10/project/BatchNorm/moving_variance\n",
      "INFO:tensorflow:Initialize variable module/MobilenetV2/expanded_conv_10/project/weights:0 from checkpoint b'C:\\\\Users\\\\Juno\\\\AppData\\\\Local\\\\Temp\\\\tfhub_modules\\\\3f2c9799c0f3aa9c272fc55e33d45daf10a9b3a0\\\\variables\\\\variables' with MobilenetV2/expanded_conv_10/project/weights\n",
      "INFO:tensorflow:Initialize variable module/MobilenetV2/expanded_conv_11/depthwise/BatchNorm/beta:0 from checkpoint b'C:\\\\Users\\\\Juno\\\\AppData\\\\Local\\\\Temp\\\\tfhub_modules\\\\3f2c9799c0f3aa9c272fc55e33d45daf10a9b3a0\\\\variables\\\\variables' with MobilenetV2/expanded_conv_11/depthwise/BatchNorm/beta\n",
      "INFO:tensorflow:Initialize variable module/MobilenetV2/expanded_conv_11/depthwise/BatchNorm/gamma:0 from checkpoint b'C:\\\\Users\\\\Juno\\\\AppData\\\\Local\\\\Temp\\\\tfhub_modules\\\\3f2c9799c0f3aa9c272fc55e33d45daf10a9b3a0\\\\variables\\\\variables' with MobilenetV2/expanded_conv_11/depthwise/BatchNorm/gamma\n",
      "INFO:tensorflow:Initialize variable module/MobilenetV2/expanded_conv_11/depthwise/BatchNorm/moving_mean:0 from checkpoint b'C:\\\\Users\\\\Juno\\\\AppData\\\\Local\\\\Temp\\\\tfhub_modules\\\\3f2c9799c0f3aa9c272fc55e33d45daf10a9b3a0\\\\variables\\\\variables' with MobilenetV2/expanded_conv_11/depthwise/BatchNorm/moving_mean\n",
      "INFO:tensorflow:Initialize variable module/MobilenetV2/expanded_conv_11/depthwise/BatchNorm/moving_variance:0 from checkpoint b'C:\\\\Users\\\\Juno\\\\AppData\\\\Local\\\\Temp\\\\tfhub_modules\\\\3f2c9799c0f3aa9c272fc55e33d45daf10a9b3a0\\\\variables\\\\variables' with MobilenetV2/expanded_conv_11/depthwise/BatchNorm/moving_variance\n",
      "INFO:tensorflow:Initialize variable module/MobilenetV2/expanded_conv_11/depthwise/depthwise_weights:0 from checkpoint b'C:\\\\Users\\\\Juno\\\\AppData\\\\Local\\\\Temp\\\\tfhub_modules\\\\3f2c9799c0f3aa9c272fc55e33d45daf10a9b3a0\\\\variables\\\\variables' with MobilenetV2/expanded_conv_11/depthwise/depthwise_weights\n",
      "INFO:tensorflow:Initialize variable module/MobilenetV2/expanded_conv_11/expand/BatchNorm/beta:0 from checkpoint b'C:\\\\Users\\\\Juno\\\\AppData\\\\Local\\\\Temp\\\\tfhub_modules\\\\3f2c9799c0f3aa9c272fc55e33d45daf10a9b3a0\\\\variables\\\\variables' with MobilenetV2/expanded_conv_11/expand/BatchNorm/beta\n",
      "INFO:tensorflow:Initialize variable module/MobilenetV2/expanded_conv_11/expand/BatchNorm/gamma:0 from checkpoint b'C:\\\\Users\\\\Juno\\\\AppData\\\\Local\\\\Temp\\\\tfhub_modules\\\\3f2c9799c0f3aa9c272fc55e33d45daf10a9b3a0\\\\variables\\\\variables' with MobilenetV2/expanded_conv_11/expand/BatchNorm/gamma\n"
     ]
    },
    {
     "name": "stdout",
     "output_type": "stream",
     "text": [
      "INFO:tensorflow:Initialize variable module/MobilenetV2/expanded_conv_11/expand/BatchNorm/moving_mean:0 from checkpoint b'C:\\\\Users\\\\Juno\\\\AppData\\\\Local\\\\Temp\\\\tfhub_modules\\\\3f2c9799c0f3aa9c272fc55e33d45daf10a9b3a0\\\\variables\\\\variables' with MobilenetV2/expanded_conv_11/expand/BatchNorm/moving_mean\n",
      "INFO:tensorflow:Initialize variable module/MobilenetV2/expanded_conv_11/expand/BatchNorm/moving_variance:0 from checkpoint b'C:\\\\Users\\\\Juno\\\\AppData\\\\Local\\\\Temp\\\\tfhub_modules\\\\3f2c9799c0f3aa9c272fc55e33d45daf10a9b3a0\\\\variables\\\\variables' with MobilenetV2/expanded_conv_11/expand/BatchNorm/moving_variance\n",
      "INFO:tensorflow:Initialize variable module/MobilenetV2/expanded_conv_11/expand/weights:0 from checkpoint b'C:\\\\Users\\\\Juno\\\\AppData\\\\Local\\\\Temp\\\\tfhub_modules\\\\3f2c9799c0f3aa9c272fc55e33d45daf10a9b3a0\\\\variables\\\\variables' with MobilenetV2/expanded_conv_11/expand/weights\n",
      "INFO:tensorflow:Initialize variable module/MobilenetV2/expanded_conv_11/project/BatchNorm/beta:0 from checkpoint b'C:\\\\Users\\\\Juno\\\\AppData\\\\Local\\\\Temp\\\\tfhub_modules\\\\3f2c9799c0f3aa9c272fc55e33d45daf10a9b3a0\\\\variables\\\\variables' with MobilenetV2/expanded_conv_11/project/BatchNorm/beta\n",
      "INFO:tensorflow:Initialize variable module/MobilenetV2/expanded_conv_11/project/BatchNorm/gamma:0 from checkpoint b'C:\\\\Users\\\\Juno\\\\AppData\\\\Local\\\\Temp\\\\tfhub_modules\\\\3f2c9799c0f3aa9c272fc55e33d45daf10a9b3a0\\\\variables\\\\variables' with MobilenetV2/expanded_conv_11/project/BatchNorm/gamma\n",
      "INFO:tensorflow:Initialize variable module/MobilenetV2/expanded_conv_11/project/BatchNorm/moving_mean:0 from checkpoint b'C:\\\\Users\\\\Juno\\\\AppData\\\\Local\\\\Temp\\\\tfhub_modules\\\\3f2c9799c0f3aa9c272fc55e33d45daf10a9b3a0\\\\variables\\\\variables' with MobilenetV2/expanded_conv_11/project/BatchNorm/moving_mean\n",
      "INFO:tensorflow:Initialize variable module/MobilenetV2/expanded_conv_11/project/BatchNorm/moving_variance:0 from checkpoint b'C:\\\\Users\\\\Juno\\\\AppData\\\\Local\\\\Temp\\\\tfhub_modules\\\\3f2c9799c0f3aa9c272fc55e33d45daf10a9b3a0\\\\variables\\\\variables' with MobilenetV2/expanded_conv_11/project/BatchNorm/moving_variance\n",
      "INFO:tensorflow:Initialize variable module/MobilenetV2/expanded_conv_11/project/weights:0 from checkpoint b'C:\\\\Users\\\\Juno\\\\AppData\\\\Local\\\\Temp\\\\tfhub_modules\\\\3f2c9799c0f3aa9c272fc55e33d45daf10a9b3a0\\\\variables\\\\variables' with MobilenetV2/expanded_conv_11/project/weights\n",
      "INFO:tensorflow:Initialize variable module/MobilenetV2/expanded_conv_12/depthwise/BatchNorm/beta:0 from checkpoint b'C:\\\\Users\\\\Juno\\\\AppData\\\\Local\\\\Temp\\\\tfhub_modules\\\\3f2c9799c0f3aa9c272fc55e33d45daf10a9b3a0\\\\variables\\\\variables' with MobilenetV2/expanded_conv_12/depthwise/BatchNorm/beta\n",
      "INFO:tensorflow:Initialize variable module/MobilenetV2/expanded_conv_12/depthwise/BatchNorm/gamma:0 from checkpoint b'C:\\\\Users\\\\Juno\\\\AppData\\\\Local\\\\Temp\\\\tfhub_modules\\\\3f2c9799c0f3aa9c272fc55e33d45daf10a9b3a0\\\\variables\\\\variables' with MobilenetV2/expanded_conv_12/depthwise/BatchNorm/gamma\n",
      "INFO:tensorflow:Initialize variable module/MobilenetV2/expanded_conv_12/depthwise/BatchNorm/moving_mean:0 from checkpoint b'C:\\\\Users\\\\Juno\\\\AppData\\\\Local\\\\Temp\\\\tfhub_modules\\\\3f2c9799c0f3aa9c272fc55e33d45daf10a9b3a0\\\\variables\\\\variables' with MobilenetV2/expanded_conv_12/depthwise/BatchNorm/moving_mean\n",
      "INFO:tensorflow:Initialize variable module/MobilenetV2/expanded_conv_12/depthwise/BatchNorm/moving_variance:0 from checkpoint b'C:\\\\Users\\\\Juno\\\\AppData\\\\Local\\\\Temp\\\\tfhub_modules\\\\3f2c9799c0f3aa9c272fc55e33d45daf10a9b3a0\\\\variables\\\\variables' with MobilenetV2/expanded_conv_12/depthwise/BatchNorm/moving_variance\n",
      "INFO:tensorflow:Initialize variable module/MobilenetV2/expanded_conv_12/depthwise/depthwise_weights:0 from checkpoint b'C:\\\\Users\\\\Juno\\\\AppData\\\\Local\\\\Temp\\\\tfhub_modules\\\\3f2c9799c0f3aa9c272fc55e33d45daf10a9b3a0\\\\variables\\\\variables' with MobilenetV2/expanded_conv_12/depthwise/depthwise_weights\n",
      "INFO:tensorflow:Initialize variable module/MobilenetV2/expanded_conv_12/expand/BatchNorm/beta:0 from checkpoint b'C:\\\\Users\\\\Juno\\\\AppData\\\\Local\\\\Temp\\\\tfhub_modules\\\\3f2c9799c0f3aa9c272fc55e33d45daf10a9b3a0\\\\variables\\\\variables' with MobilenetV2/expanded_conv_12/expand/BatchNorm/beta\n",
      "INFO:tensorflow:Initialize variable module/MobilenetV2/expanded_conv_12/expand/BatchNorm/gamma:0 from checkpoint b'C:\\\\Users\\\\Juno\\\\AppData\\\\Local\\\\Temp\\\\tfhub_modules\\\\3f2c9799c0f3aa9c272fc55e33d45daf10a9b3a0\\\\variables\\\\variables' with MobilenetV2/expanded_conv_12/expand/BatchNorm/gamma\n",
      "INFO:tensorflow:Initialize variable module/MobilenetV2/expanded_conv_12/expand/BatchNorm/moving_mean:0 from checkpoint b'C:\\\\Users\\\\Juno\\\\AppData\\\\Local\\\\Temp\\\\tfhub_modules\\\\3f2c9799c0f3aa9c272fc55e33d45daf10a9b3a0\\\\variables\\\\variables' with MobilenetV2/expanded_conv_12/expand/BatchNorm/moving_mean\n",
      "INFO:tensorflow:Initialize variable module/MobilenetV2/expanded_conv_12/expand/BatchNorm/moving_variance:0 from checkpoint b'C:\\\\Users\\\\Juno\\\\AppData\\\\Local\\\\Temp\\\\tfhub_modules\\\\3f2c9799c0f3aa9c272fc55e33d45daf10a9b3a0\\\\variables\\\\variables' with MobilenetV2/expanded_conv_12/expand/BatchNorm/moving_variance\n",
      "INFO:tensorflow:Initialize variable module/MobilenetV2/expanded_conv_12/expand/weights:0 from checkpoint b'C:\\\\Users\\\\Juno\\\\AppData\\\\Local\\\\Temp\\\\tfhub_modules\\\\3f2c9799c0f3aa9c272fc55e33d45daf10a9b3a0\\\\variables\\\\variables' with MobilenetV2/expanded_conv_12/expand/weights\n",
      "INFO:tensorflow:Initialize variable module/MobilenetV2/expanded_conv_12/project/BatchNorm/beta:0 from checkpoint b'C:\\\\Users\\\\Juno\\\\AppData\\\\Local\\\\Temp\\\\tfhub_modules\\\\3f2c9799c0f3aa9c272fc55e33d45daf10a9b3a0\\\\variables\\\\variables' with MobilenetV2/expanded_conv_12/project/BatchNorm/beta\n",
      "INFO:tensorflow:Initialize variable module/MobilenetV2/expanded_conv_12/project/BatchNorm/gamma:0 from checkpoint b'C:\\\\Users\\\\Juno\\\\AppData\\\\Local\\\\Temp\\\\tfhub_modules\\\\3f2c9799c0f3aa9c272fc55e33d45daf10a9b3a0\\\\variables\\\\variables' with MobilenetV2/expanded_conv_12/project/BatchNorm/gamma\n",
      "INFO:tensorflow:Initialize variable module/MobilenetV2/expanded_conv_12/project/BatchNorm/moving_mean:0 from checkpoint b'C:\\\\Users\\\\Juno\\\\AppData\\\\Local\\\\Temp\\\\tfhub_modules\\\\3f2c9799c0f3aa9c272fc55e33d45daf10a9b3a0\\\\variables\\\\variables' with MobilenetV2/expanded_conv_12/project/BatchNorm/moving_mean\n",
      "INFO:tensorflow:Initialize variable module/MobilenetV2/expanded_conv_12/project/BatchNorm/moving_variance:0 from checkpoint b'C:\\\\Users\\\\Juno\\\\AppData\\\\Local\\\\Temp\\\\tfhub_modules\\\\3f2c9799c0f3aa9c272fc55e33d45daf10a9b3a0\\\\variables\\\\variables' with MobilenetV2/expanded_conv_12/project/BatchNorm/moving_variance\n",
      "INFO:tensorflow:Initialize variable module/MobilenetV2/expanded_conv_12/project/weights:0 from checkpoint b'C:\\\\Users\\\\Juno\\\\AppData\\\\Local\\\\Temp\\\\tfhub_modules\\\\3f2c9799c0f3aa9c272fc55e33d45daf10a9b3a0\\\\variables\\\\variables' with MobilenetV2/expanded_conv_12/project/weights\n",
      "INFO:tensorflow:Initialize variable module/MobilenetV2/expanded_conv_13/depthwise/BatchNorm/beta:0 from checkpoint b'C:\\\\Users\\\\Juno\\\\AppData\\\\Local\\\\Temp\\\\tfhub_modules\\\\3f2c9799c0f3aa9c272fc55e33d45daf10a9b3a0\\\\variables\\\\variables' with MobilenetV2/expanded_conv_13/depthwise/BatchNorm/beta\n",
      "INFO:tensorflow:Initialize variable module/MobilenetV2/expanded_conv_13/depthwise/BatchNorm/gamma:0 from checkpoint b'C:\\\\Users\\\\Juno\\\\AppData\\\\Local\\\\Temp\\\\tfhub_modules\\\\3f2c9799c0f3aa9c272fc55e33d45daf10a9b3a0\\\\variables\\\\variables' with MobilenetV2/expanded_conv_13/depthwise/BatchNorm/gamma\n",
      "INFO:tensorflow:Initialize variable module/MobilenetV2/expanded_conv_13/depthwise/BatchNorm/moving_mean:0 from checkpoint b'C:\\\\Users\\\\Juno\\\\AppData\\\\Local\\\\Temp\\\\tfhub_modules\\\\3f2c9799c0f3aa9c272fc55e33d45daf10a9b3a0\\\\variables\\\\variables' with MobilenetV2/expanded_conv_13/depthwise/BatchNorm/moving_mean\n",
      "INFO:tensorflow:Initialize variable module/MobilenetV2/expanded_conv_13/depthwise/BatchNorm/moving_variance:0 from checkpoint b'C:\\\\Users\\\\Juno\\\\AppData\\\\Local\\\\Temp\\\\tfhub_modules\\\\3f2c9799c0f3aa9c272fc55e33d45daf10a9b3a0\\\\variables\\\\variables' with MobilenetV2/expanded_conv_13/depthwise/BatchNorm/moving_variance\n",
      "INFO:tensorflow:Initialize variable module/MobilenetV2/expanded_conv_13/depthwise/depthwise_weights:0 from checkpoint b'C:\\\\Users\\\\Juno\\\\AppData\\\\Local\\\\Temp\\\\tfhub_modules\\\\3f2c9799c0f3aa9c272fc55e33d45daf10a9b3a0\\\\variables\\\\variables' with MobilenetV2/expanded_conv_13/depthwise/depthwise_weights\n"
     ]
    },
    {
     "name": "stdout",
     "output_type": "stream",
     "text": [
      "INFO:tensorflow:Initialize variable module/MobilenetV2/expanded_conv_13/expand/BatchNorm/beta:0 from checkpoint b'C:\\\\Users\\\\Juno\\\\AppData\\\\Local\\\\Temp\\\\tfhub_modules\\\\3f2c9799c0f3aa9c272fc55e33d45daf10a9b3a0\\\\variables\\\\variables' with MobilenetV2/expanded_conv_13/expand/BatchNorm/beta\n",
      "INFO:tensorflow:Initialize variable module/MobilenetV2/expanded_conv_13/expand/BatchNorm/gamma:0 from checkpoint b'C:\\\\Users\\\\Juno\\\\AppData\\\\Local\\\\Temp\\\\tfhub_modules\\\\3f2c9799c0f3aa9c272fc55e33d45daf10a9b3a0\\\\variables\\\\variables' with MobilenetV2/expanded_conv_13/expand/BatchNorm/gamma\n",
      "INFO:tensorflow:Initialize variable module/MobilenetV2/expanded_conv_13/expand/BatchNorm/moving_mean:0 from checkpoint b'C:\\\\Users\\\\Juno\\\\AppData\\\\Local\\\\Temp\\\\tfhub_modules\\\\3f2c9799c0f3aa9c272fc55e33d45daf10a9b3a0\\\\variables\\\\variables' with MobilenetV2/expanded_conv_13/expand/BatchNorm/moving_mean\n",
      "INFO:tensorflow:Initialize variable module/MobilenetV2/expanded_conv_13/expand/BatchNorm/moving_variance:0 from checkpoint b'C:\\\\Users\\\\Juno\\\\AppData\\\\Local\\\\Temp\\\\tfhub_modules\\\\3f2c9799c0f3aa9c272fc55e33d45daf10a9b3a0\\\\variables\\\\variables' with MobilenetV2/expanded_conv_13/expand/BatchNorm/moving_variance\n",
      "INFO:tensorflow:Initialize variable module/MobilenetV2/expanded_conv_13/expand/weights:0 from checkpoint b'C:\\\\Users\\\\Juno\\\\AppData\\\\Local\\\\Temp\\\\tfhub_modules\\\\3f2c9799c0f3aa9c272fc55e33d45daf10a9b3a0\\\\variables\\\\variables' with MobilenetV2/expanded_conv_13/expand/weights\n",
      "INFO:tensorflow:Initialize variable module/MobilenetV2/expanded_conv_13/project/BatchNorm/beta:0 from checkpoint b'C:\\\\Users\\\\Juno\\\\AppData\\\\Local\\\\Temp\\\\tfhub_modules\\\\3f2c9799c0f3aa9c272fc55e33d45daf10a9b3a0\\\\variables\\\\variables' with MobilenetV2/expanded_conv_13/project/BatchNorm/beta\n",
      "INFO:tensorflow:Initialize variable module/MobilenetV2/expanded_conv_13/project/BatchNorm/gamma:0 from checkpoint b'C:\\\\Users\\\\Juno\\\\AppData\\\\Local\\\\Temp\\\\tfhub_modules\\\\3f2c9799c0f3aa9c272fc55e33d45daf10a9b3a0\\\\variables\\\\variables' with MobilenetV2/expanded_conv_13/project/BatchNorm/gamma\n",
      "INFO:tensorflow:Initialize variable module/MobilenetV2/expanded_conv_13/project/BatchNorm/moving_mean:0 from checkpoint b'C:\\\\Users\\\\Juno\\\\AppData\\\\Local\\\\Temp\\\\tfhub_modules\\\\3f2c9799c0f3aa9c272fc55e33d45daf10a9b3a0\\\\variables\\\\variables' with MobilenetV2/expanded_conv_13/project/BatchNorm/moving_mean\n",
      "INFO:tensorflow:Initialize variable module/MobilenetV2/expanded_conv_13/project/BatchNorm/moving_variance:0 from checkpoint b'C:\\\\Users\\\\Juno\\\\AppData\\\\Local\\\\Temp\\\\tfhub_modules\\\\3f2c9799c0f3aa9c272fc55e33d45daf10a9b3a0\\\\variables\\\\variables' with MobilenetV2/expanded_conv_13/project/BatchNorm/moving_variance\n",
      "INFO:tensorflow:Initialize variable module/MobilenetV2/expanded_conv_13/project/weights:0 from checkpoint b'C:\\\\Users\\\\Juno\\\\AppData\\\\Local\\\\Temp\\\\tfhub_modules\\\\3f2c9799c0f3aa9c272fc55e33d45daf10a9b3a0\\\\variables\\\\variables' with MobilenetV2/expanded_conv_13/project/weights\n",
      "INFO:tensorflow:Initialize variable module/MobilenetV2/expanded_conv_14/depthwise/BatchNorm/beta:0 from checkpoint b'C:\\\\Users\\\\Juno\\\\AppData\\\\Local\\\\Temp\\\\tfhub_modules\\\\3f2c9799c0f3aa9c272fc55e33d45daf10a9b3a0\\\\variables\\\\variables' with MobilenetV2/expanded_conv_14/depthwise/BatchNorm/beta\n",
      "INFO:tensorflow:Initialize variable module/MobilenetV2/expanded_conv_14/depthwise/BatchNorm/gamma:0 from checkpoint b'C:\\\\Users\\\\Juno\\\\AppData\\\\Local\\\\Temp\\\\tfhub_modules\\\\3f2c9799c0f3aa9c272fc55e33d45daf10a9b3a0\\\\variables\\\\variables' with MobilenetV2/expanded_conv_14/depthwise/BatchNorm/gamma\n",
      "INFO:tensorflow:Initialize variable module/MobilenetV2/expanded_conv_14/depthwise/BatchNorm/moving_mean:0 from checkpoint b'C:\\\\Users\\\\Juno\\\\AppData\\\\Local\\\\Temp\\\\tfhub_modules\\\\3f2c9799c0f3aa9c272fc55e33d45daf10a9b3a0\\\\variables\\\\variables' with MobilenetV2/expanded_conv_14/depthwise/BatchNorm/moving_mean\n",
      "INFO:tensorflow:Initialize variable module/MobilenetV2/expanded_conv_14/depthwise/BatchNorm/moving_variance:0 from checkpoint b'C:\\\\Users\\\\Juno\\\\AppData\\\\Local\\\\Temp\\\\tfhub_modules\\\\3f2c9799c0f3aa9c272fc55e33d45daf10a9b3a0\\\\variables\\\\variables' with MobilenetV2/expanded_conv_14/depthwise/BatchNorm/moving_variance\n",
      "INFO:tensorflow:Initialize variable module/MobilenetV2/expanded_conv_14/depthwise/depthwise_weights:0 from checkpoint b'C:\\\\Users\\\\Juno\\\\AppData\\\\Local\\\\Temp\\\\tfhub_modules\\\\3f2c9799c0f3aa9c272fc55e33d45daf10a9b3a0\\\\variables\\\\variables' with MobilenetV2/expanded_conv_14/depthwise/depthwise_weights\n",
      "INFO:tensorflow:Initialize variable module/MobilenetV2/expanded_conv_14/expand/BatchNorm/beta:0 from checkpoint b'C:\\\\Users\\\\Juno\\\\AppData\\\\Local\\\\Temp\\\\tfhub_modules\\\\3f2c9799c0f3aa9c272fc55e33d45daf10a9b3a0\\\\variables\\\\variables' with MobilenetV2/expanded_conv_14/expand/BatchNorm/beta\n",
      "INFO:tensorflow:Initialize variable module/MobilenetV2/expanded_conv_14/expand/BatchNorm/gamma:0 from checkpoint b'C:\\\\Users\\\\Juno\\\\AppData\\\\Local\\\\Temp\\\\tfhub_modules\\\\3f2c9799c0f3aa9c272fc55e33d45daf10a9b3a0\\\\variables\\\\variables' with MobilenetV2/expanded_conv_14/expand/BatchNorm/gamma\n",
      "INFO:tensorflow:Initialize variable module/MobilenetV2/expanded_conv_14/expand/BatchNorm/moving_mean:0 from checkpoint b'C:\\\\Users\\\\Juno\\\\AppData\\\\Local\\\\Temp\\\\tfhub_modules\\\\3f2c9799c0f3aa9c272fc55e33d45daf10a9b3a0\\\\variables\\\\variables' with MobilenetV2/expanded_conv_14/expand/BatchNorm/moving_mean\n",
      "INFO:tensorflow:Initialize variable module/MobilenetV2/expanded_conv_14/expand/BatchNorm/moving_variance:0 from checkpoint b'C:\\\\Users\\\\Juno\\\\AppData\\\\Local\\\\Temp\\\\tfhub_modules\\\\3f2c9799c0f3aa9c272fc55e33d45daf10a9b3a0\\\\variables\\\\variables' with MobilenetV2/expanded_conv_14/expand/BatchNorm/moving_variance\n",
      "INFO:tensorflow:Initialize variable module/MobilenetV2/expanded_conv_14/expand/weights:0 from checkpoint b'C:\\\\Users\\\\Juno\\\\AppData\\\\Local\\\\Temp\\\\tfhub_modules\\\\3f2c9799c0f3aa9c272fc55e33d45daf10a9b3a0\\\\variables\\\\variables' with MobilenetV2/expanded_conv_14/expand/weights\n",
      "INFO:tensorflow:Initialize variable module/MobilenetV2/expanded_conv_14/project/BatchNorm/beta:0 from checkpoint b'C:\\\\Users\\\\Juno\\\\AppData\\\\Local\\\\Temp\\\\tfhub_modules\\\\3f2c9799c0f3aa9c272fc55e33d45daf10a9b3a0\\\\variables\\\\variables' with MobilenetV2/expanded_conv_14/project/BatchNorm/beta\n",
      "INFO:tensorflow:Initialize variable module/MobilenetV2/expanded_conv_14/project/BatchNorm/gamma:0 from checkpoint b'C:\\\\Users\\\\Juno\\\\AppData\\\\Local\\\\Temp\\\\tfhub_modules\\\\3f2c9799c0f3aa9c272fc55e33d45daf10a9b3a0\\\\variables\\\\variables' with MobilenetV2/expanded_conv_14/project/BatchNorm/gamma\n",
      "INFO:tensorflow:Initialize variable module/MobilenetV2/expanded_conv_14/project/BatchNorm/moving_mean:0 from checkpoint b'C:\\\\Users\\\\Juno\\\\AppData\\\\Local\\\\Temp\\\\tfhub_modules\\\\3f2c9799c0f3aa9c272fc55e33d45daf10a9b3a0\\\\variables\\\\variables' with MobilenetV2/expanded_conv_14/project/BatchNorm/moving_mean\n",
      "INFO:tensorflow:Initialize variable module/MobilenetV2/expanded_conv_14/project/BatchNorm/moving_variance:0 from checkpoint b'C:\\\\Users\\\\Juno\\\\AppData\\\\Local\\\\Temp\\\\tfhub_modules\\\\3f2c9799c0f3aa9c272fc55e33d45daf10a9b3a0\\\\variables\\\\variables' with MobilenetV2/expanded_conv_14/project/BatchNorm/moving_variance\n",
      "INFO:tensorflow:Initialize variable module/MobilenetV2/expanded_conv_14/project/weights:0 from checkpoint b'C:\\\\Users\\\\Juno\\\\AppData\\\\Local\\\\Temp\\\\tfhub_modules\\\\3f2c9799c0f3aa9c272fc55e33d45daf10a9b3a0\\\\variables\\\\variables' with MobilenetV2/expanded_conv_14/project/weights\n",
      "INFO:tensorflow:Initialize variable module/MobilenetV2/expanded_conv_15/depthwise/BatchNorm/beta:0 from checkpoint b'C:\\\\Users\\\\Juno\\\\AppData\\\\Local\\\\Temp\\\\tfhub_modules\\\\3f2c9799c0f3aa9c272fc55e33d45daf10a9b3a0\\\\variables\\\\variables' with MobilenetV2/expanded_conv_15/depthwise/BatchNorm/beta\n",
      "INFO:tensorflow:Initialize variable module/MobilenetV2/expanded_conv_15/depthwise/BatchNorm/gamma:0 from checkpoint b'C:\\\\Users\\\\Juno\\\\AppData\\\\Local\\\\Temp\\\\tfhub_modules\\\\3f2c9799c0f3aa9c272fc55e33d45daf10a9b3a0\\\\variables\\\\variables' with MobilenetV2/expanded_conv_15/depthwise/BatchNorm/gamma\n",
      "INFO:tensorflow:Initialize variable module/MobilenetV2/expanded_conv_15/depthwise/BatchNorm/moving_mean:0 from checkpoint b'C:\\\\Users\\\\Juno\\\\AppData\\\\Local\\\\Temp\\\\tfhub_modules\\\\3f2c9799c0f3aa9c272fc55e33d45daf10a9b3a0\\\\variables\\\\variables' with MobilenetV2/expanded_conv_15/depthwise/BatchNorm/moving_mean\n"
     ]
    },
    {
     "name": "stdout",
     "output_type": "stream",
     "text": [
      "INFO:tensorflow:Initialize variable module/MobilenetV2/expanded_conv_15/depthwise/BatchNorm/moving_variance:0 from checkpoint b'C:\\\\Users\\\\Juno\\\\AppData\\\\Local\\\\Temp\\\\tfhub_modules\\\\3f2c9799c0f3aa9c272fc55e33d45daf10a9b3a0\\\\variables\\\\variables' with MobilenetV2/expanded_conv_15/depthwise/BatchNorm/moving_variance\n",
      "INFO:tensorflow:Initialize variable module/MobilenetV2/expanded_conv_15/depthwise/depthwise_weights:0 from checkpoint b'C:\\\\Users\\\\Juno\\\\AppData\\\\Local\\\\Temp\\\\tfhub_modules\\\\3f2c9799c0f3aa9c272fc55e33d45daf10a9b3a0\\\\variables\\\\variables' with MobilenetV2/expanded_conv_15/depthwise/depthwise_weights\n",
      "INFO:tensorflow:Initialize variable module/MobilenetV2/expanded_conv_15/expand/BatchNorm/beta:0 from checkpoint b'C:\\\\Users\\\\Juno\\\\AppData\\\\Local\\\\Temp\\\\tfhub_modules\\\\3f2c9799c0f3aa9c272fc55e33d45daf10a9b3a0\\\\variables\\\\variables' with MobilenetV2/expanded_conv_15/expand/BatchNorm/beta\n",
      "INFO:tensorflow:Initialize variable module/MobilenetV2/expanded_conv_15/expand/BatchNorm/gamma:0 from checkpoint b'C:\\\\Users\\\\Juno\\\\AppData\\\\Local\\\\Temp\\\\tfhub_modules\\\\3f2c9799c0f3aa9c272fc55e33d45daf10a9b3a0\\\\variables\\\\variables' with MobilenetV2/expanded_conv_15/expand/BatchNorm/gamma\n",
      "INFO:tensorflow:Initialize variable module/MobilenetV2/expanded_conv_15/expand/BatchNorm/moving_mean:0 from checkpoint b'C:\\\\Users\\\\Juno\\\\AppData\\\\Local\\\\Temp\\\\tfhub_modules\\\\3f2c9799c0f3aa9c272fc55e33d45daf10a9b3a0\\\\variables\\\\variables' with MobilenetV2/expanded_conv_15/expand/BatchNorm/moving_mean\n",
      "INFO:tensorflow:Initialize variable module/MobilenetV2/expanded_conv_15/expand/BatchNorm/moving_variance:0 from checkpoint b'C:\\\\Users\\\\Juno\\\\AppData\\\\Local\\\\Temp\\\\tfhub_modules\\\\3f2c9799c0f3aa9c272fc55e33d45daf10a9b3a0\\\\variables\\\\variables' with MobilenetV2/expanded_conv_15/expand/BatchNorm/moving_variance\n",
      "INFO:tensorflow:Initialize variable module/MobilenetV2/expanded_conv_15/expand/weights:0 from checkpoint b'C:\\\\Users\\\\Juno\\\\AppData\\\\Local\\\\Temp\\\\tfhub_modules\\\\3f2c9799c0f3aa9c272fc55e33d45daf10a9b3a0\\\\variables\\\\variables' with MobilenetV2/expanded_conv_15/expand/weights\n",
      "INFO:tensorflow:Initialize variable module/MobilenetV2/expanded_conv_15/project/BatchNorm/beta:0 from checkpoint b'C:\\\\Users\\\\Juno\\\\AppData\\\\Local\\\\Temp\\\\tfhub_modules\\\\3f2c9799c0f3aa9c272fc55e33d45daf10a9b3a0\\\\variables\\\\variables' with MobilenetV2/expanded_conv_15/project/BatchNorm/beta\n",
      "INFO:tensorflow:Initialize variable module/MobilenetV2/expanded_conv_15/project/BatchNorm/gamma:0 from checkpoint b'C:\\\\Users\\\\Juno\\\\AppData\\\\Local\\\\Temp\\\\tfhub_modules\\\\3f2c9799c0f3aa9c272fc55e33d45daf10a9b3a0\\\\variables\\\\variables' with MobilenetV2/expanded_conv_15/project/BatchNorm/gamma\n",
      "INFO:tensorflow:Initialize variable module/MobilenetV2/expanded_conv_15/project/BatchNorm/moving_mean:0 from checkpoint b'C:\\\\Users\\\\Juno\\\\AppData\\\\Local\\\\Temp\\\\tfhub_modules\\\\3f2c9799c0f3aa9c272fc55e33d45daf10a9b3a0\\\\variables\\\\variables' with MobilenetV2/expanded_conv_15/project/BatchNorm/moving_mean\n",
      "INFO:tensorflow:Initialize variable module/MobilenetV2/expanded_conv_15/project/BatchNorm/moving_variance:0 from checkpoint b'C:\\\\Users\\\\Juno\\\\AppData\\\\Local\\\\Temp\\\\tfhub_modules\\\\3f2c9799c0f3aa9c272fc55e33d45daf10a9b3a0\\\\variables\\\\variables' with MobilenetV2/expanded_conv_15/project/BatchNorm/moving_variance\n",
      "INFO:tensorflow:Initialize variable module/MobilenetV2/expanded_conv_15/project/weights:0 from checkpoint b'C:\\\\Users\\\\Juno\\\\AppData\\\\Local\\\\Temp\\\\tfhub_modules\\\\3f2c9799c0f3aa9c272fc55e33d45daf10a9b3a0\\\\variables\\\\variables' with MobilenetV2/expanded_conv_15/project/weights\n",
      "INFO:tensorflow:Initialize variable module/MobilenetV2/expanded_conv_16/depthwise/BatchNorm/beta:0 from checkpoint b'C:\\\\Users\\\\Juno\\\\AppData\\\\Local\\\\Temp\\\\tfhub_modules\\\\3f2c9799c0f3aa9c272fc55e33d45daf10a9b3a0\\\\variables\\\\variables' with MobilenetV2/expanded_conv_16/depthwise/BatchNorm/beta\n",
      "INFO:tensorflow:Initialize variable module/MobilenetV2/expanded_conv_16/depthwise/BatchNorm/gamma:0 from checkpoint b'C:\\\\Users\\\\Juno\\\\AppData\\\\Local\\\\Temp\\\\tfhub_modules\\\\3f2c9799c0f3aa9c272fc55e33d45daf10a9b3a0\\\\variables\\\\variables' with MobilenetV2/expanded_conv_16/depthwise/BatchNorm/gamma\n",
      "INFO:tensorflow:Initialize variable module/MobilenetV2/expanded_conv_16/depthwise/BatchNorm/moving_mean:0 from checkpoint b'C:\\\\Users\\\\Juno\\\\AppData\\\\Local\\\\Temp\\\\tfhub_modules\\\\3f2c9799c0f3aa9c272fc55e33d45daf10a9b3a0\\\\variables\\\\variables' with MobilenetV2/expanded_conv_16/depthwise/BatchNorm/moving_mean\n",
      "INFO:tensorflow:Initialize variable module/MobilenetV2/expanded_conv_16/depthwise/BatchNorm/moving_variance:0 from checkpoint b'C:\\\\Users\\\\Juno\\\\AppData\\\\Local\\\\Temp\\\\tfhub_modules\\\\3f2c9799c0f3aa9c272fc55e33d45daf10a9b3a0\\\\variables\\\\variables' with MobilenetV2/expanded_conv_16/depthwise/BatchNorm/moving_variance\n",
      "INFO:tensorflow:Initialize variable module/MobilenetV2/expanded_conv_16/depthwise/depthwise_weights:0 from checkpoint b'C:\\\\Users\\\\Juno\\\\AppData\\\\Local\\\\Temp\\\\tfhub_modules\\\\3f2c9799c0f3aa9c272fc55e33d45daf10a9b3a0\\\\variables\\\\variables' with MobilenetV2/expanded_conv_16/depthwise/depthwise_weights\n",
      "INFO:tensorflow:Initialize variable module/MobilenetV2/expanded_conv_16/expand/BatchNorm/beta:0 from checkpoint b'C:\\\\Users\\\\Juno\\\\AppData\\\\Local\\\\Temp\\\\tfhub_modules\\\\3f2c9799c0f3aa9c272fc55e33d45daf10a9b3a0\\\\variables\\\\variables' with MobilenetV2/expanded_conv_16/expand/BatchNorm/beta\n",
      "INFO:tensorflow:Initialize variable module/MobilenetV2/expanded_conv_16/expand/BatchNorm/gamma:0 from checkpoint b'C:\\\\Users\\\\Juno\\\\AppData\\\\Local\\\\Temp\\\\tfhub_modules\\\\3f2c9799c0f3aa9c272fc55e33d45daf10a9b3a0\\\\variables\\\\variables' with MobilenetV2/expanded_conv_16/expand/BatchNorm/gamma\n",
      "INFO:tensorflow:Initialize variable module/MobilenetV2/expanded_conv_16/expand/BatchNorm/moving_mean:0 from checkpoint b'C:\\\\Users\\\\Juno\\\\AppData\\\\Local\\\\Temp\\\\tfhub_modules\\\\3f2c9799c0f3aa9c272fc55e33d45daf10a9b3a0\\\\variables\\\\variables' with MobilenetV2/expanded_conv_16/expand/BatchNorm/moving_mean\n",
      "INFO:tensorflow:Initialize variable module/MobilenetV2/expanded_conv_16/expand/BatchNorm/moving_variance:0 from checkpoint b'C:\\\\Users\\\\Juno\\\\AppData\\\\Local\\\\Temp\\\\tfhub_modules\\\\3f2c9799c0f3aa9c272fc55e33d45daf10a9b3a0\\\\variables\\\\variables' with MobilenetV2/expanded_conv_16/expand/BatchNorm/moving_variance\n",
      "INFO:tensorflow:Initialize variable module/MobilenetV2/expanded_conv_16/expand/weights:0 from checkpoint b'C:\\\\Users\\\\Juno\\\\AppData\\\\Local\\\\Temp\\\\tfhub_modules\\\\3f2c9799c0f3aa9c272fc55e33d45daf10a9b3a0\\\\variables\\\\variables' with MobilenetV2/expanded_conv_16/expand/weights\n",
      "INFO:tensorflow:Initialize variable module/MobilenetV2/expanded_conv_16/project/BatchNorm/beta:0 from checkpoint b'C:\\\\Users\\\\Juno\\\\AppData\\\\Local\\\\Temp\\\\tfhub_modules\\\\3f2c9799c0f3aa9c272fc55e33d45daf10a9b3a0\\\\variables\\\\variables' with MobilenetV2/expanded_conv_16/project/BatchNorm/beta\n",
      "INFO:tensorflow:Initialize variable module/MobilenetV2/expanded_conv_16/project/BatchNorm/gamma:0 from checkpoint b'C:\\\\Users\\\\Juno\\\\AppData\\\\Local\\\\Temp\\\\tfhub_modules\\\\3f2c9799c0f3aa9c272fc55e33d45daf10a9b3a0\\\\variables\\\\variables' with MobilenetV2/expanded_conv_16/project/BatchNorm/gamma\n",
      "INFO:tensorflow:Initialize variable module/MobilenetV2/expanded_conv_16/project/BatchNorm/moving_mean:0 from checkpoint b'C:\\\\Users\\\\Juno\\\\AppData\\\\Local\\\\Temp\\\\tfhub_modules\\\\3f2c9799c0f3aa9c272fc55e33d45daf10a9b3a0\\\\variables\\\\variables' with MobilenetV2/expanded_conv_16/project/BatchNorm/moving_mean\n",
      "INFO:tensorflow:Initialize variable module/MobilenetV2/expanded_conv_16/project/BatchNorm/moving_variance:0 from checkpoint b'C:\\\\Users\\\\Juno\\\\AppData\\\\Local\\\\Temp\\\\tfhub_modules\\\\3f2c9799c0f3aa9c272fc55e33d45daf10a9b3a0\\\\variables\\\\variables' with MobilenetV2/expanded_conv_16/project/BatchNorm/moving_variance\n",
      "INFO:tensorflow:Initialize variable module/MobilenetV2/expanded_conv_16/project/weights:0 from checkpoint b'C:\\\\Users\\\\Juno\\\\AppData\\\\Local\\\\Temp\\\\tfhub_modules\\\\3f2c9799c0f3aa9c272fc55e33d45daf10a9b3a0\\\\variables\\\\variables' with MobilenetV2/expanded_conv_16/project/weights\n",
      "INFO:tensorflow:Initialize variable module/MobilenetV2/expanded_conv_2/depthwise/BatchNorm/beta:0 from checkpoint b'C:\\\\Users\\\\Juno\\\\AppData\\\\Local\\\\Temp\\\\tfhub_modules\\\\3f2c9799c0f3aa9c272fc55e33d45daf10a9b3a0\\\\variables\\\\variables' with MobilenetV2/expanded_conv_2/depthwise/BatchNorm/beta\n"
     ]
    },
    {
     "name": "stdout",
     "output_type": "stream",
     "text": [
      "INFO:tensorflow:Initialize variable module/MobilenetV2/expanded_conv_2/depthwise/BatchNorm/gamma:0 from checkpoint b'C:\\\\Users\\\\Juno\\\\AppData\\\\Local\\\\Temp\\\\tfhub_modules\\\\3f2c9799c0f3aa9c272fc55e33d45daf10a9b3a0\\\\variables\\\\variables' with MobilenetV2/expanded_conv_2/depthwise/BatchNorm/gamma\n",
      "INFO:tensorflow:Initialize variable module/MobilenetV2/expanded_conv_2/depthwise/BatchNorm/moving_mean:0 from checkpoint b'C:\\\\Users\\\\Juno\\\\AppData\\\\Local\\\\Temp\\\\tfhub_modules\\\\3f2c9799c0f3aa9c272fc55e33d45daf10a9b3a0\\\\variables\\\\variables' with MobilenetV2/expanded_conv_2/depthwise/BatchNorm/moving_mean\n",
      "INFO:tensorflow:Initialize variable module/MobilenetV2/expanded_conv_2/depthwise/BatchNorm/moving_variance:0 from checkpoint b'C:\\\\Users\\\\Juno\\\\AppData\\\\Local\\\\Temp\\\\tfhub_modules\\\\3f2c9799c0f3aa9c272fc55e33d45daf10a9b3a0\\\\variables\\\\variables' with MobilenetV2/expanded_conv_2/depthwise/BatchNorm/moving_variance\n",
      "INFO:tensorflow:Initialize variable module/MobilenetV2/expanded_conv_2/depthwise/depthwise_weights:0 from checkpoint b'C:\\\\Users\\\\Juno\\\\AppData\\\\Local\\\\Temp\\\\tfhub_modules\\\\3f2c9799c0f3aa9c272fc55e33d45daf10a9b3a0\\\\variables\\\\variables' with MobilenetV2/expanded_conv_2/depthwise/depthwise_weights\n",
      "INFO:tensorflow:Initialize variable module/MobilenetV2/expanded_conv_2/expand/BatchNorm/beta:0 from checkpoint b'C:\\\\Users\\\\Juno\\\\AppData\\\\Local\\\\Temp\\\\tfhub_modules\\\\3f2c9799c0f3aa9c272fc55e33d45daf10a9b3a0\\\\variables\\\\variables' with MobilenetV2/expanded_conv_2/expand/BatchNorm/beta\n",
      "INFO:tensorflow:Initialize variable module/MobilenetV2/expanded_conv_2/expand/BatchNorm/gamma:0 from checkpoint b'C:\\\\Users\\\\Juno\\\\AppData\\\\Local\\\\Temp\\\\tfhub_modules\\\\3f2c9799c0f3aa9c272fc55e33d45daf10a9b3a0\\\\variables\\\\variables' with MobilenetV2/expanded_conv_2/expand/BatchNorm/gamma\n",
      "INFO:tensorflow:Initialize variable module/MobilenetV2/expanded_conv_2/expand/BatchNorm/moving_mean:0 from checkpoint b'C:\\\\Users\\\\Juno\\\\AppData\\\\Local\\\\Temp\\\\tfhub_modules\\\\3f2c9799c0f3aa9c272fc55e33d45daf10a9b3a0\\\\variables\\\\variables' with MobilenetV2/expanded_conv_2/expand/BatchNorm/moving_mean\n",
      "INFO:tensorflow:Initialize variable module/MobilenetV2/expanded_conv_2/expand/BatchNorm/moving_variance:0 from checkpoint b'C:\\\\Users\\\\Juno\\\\AppData\\\\Local\\\\Temp\\\\tfhub_modules\\\\3f2c9799c0f3aa9c272fc55e33d45daf10a9b3a0\\\\variables\\\\variables' with MobilenetV2/expanded_conv_2/expand/BatchNorm/moving_variance\n",
      "INFO:tensorflow:Initialize variable module/MobilenetV2/expanded_conv_2/expand/weights:0 from checkpoint b'C:\\\\Users\\\\Juno\\\\AppData\\\\Local\\\\Temp\\\\tfhub_modules\\\\3f2c9799c0f3aa9c272fc55e33d45daf10a9b3a0\\\\variables\\\\variables' with MobilenetV2/expanded_conv_2/expand/weights\n",
      "INFO:tensorflow:Initialize variable module/MobilenetV2/expanded_conv_2/project/BatchNorm/beta:0 from checkpoint b'C:\\\\Users\\\\Juno\\\\AppData\\\\Local\\\\Temp\\\\tfhub_modules\\\\3f2c9799c0f3aa9c272fc55e33d45daf10a9b3a0\\\\variables\\\\variables' with MobilenetV2/expanded_conv_2/project/BatchNorm/beta\n",
      "INFO:tensorflow:Initialize variable module/MobilenetV2/expanded_conv_2/project/BatchNorm/gamma:0 from checkpoint b'C:\\\\Users\\\\Juno\\\\AppData\\\\Local\\\\Temp\\\\tfhub_modules\\\\3f2c9799c0f3aa9c272fc55e33d45daf10a9b3a0\\\\variables\\\\variables' with MobilenetV2/expanded_conv_2/project/BatchNorm/gamma\n",
      "INFO:tensorflow:Initialize variable module/MobilenetV2/expanded_conv_2/project/BatchNorm/moving_mean:0 from checkpoint b'C:\\\\Users\\\\Juno\\\\AppData\\\\Local\\\\Temp\\\\tfhub_modules\\\\3f2c9799c0f3aa9c272fc55e33d45daf10a9b3a0\\\\variables\\\\variables' with MobilenetV2/expanded_conv_2/project/BatchNorm/moving_mean\n",
      "INFO:tensorflow:Initialize variable module/MobilenetV2/expanded_conv_2/project/BatchNorm/moving_variance:0 from checkpoint b'C:\\\\Users\\\\Juno\\\\AppData\\\\Local\\\\Temp\\\\tfhub_modules\\\\3f2c9799c0f3aa9c272fc55e33d45daf10a9b3a0\\\\variables\\\\variables' with MobilenetV2/expanded_conv_2/project/BatchNorm/moving_variance\n",
      "INFO:tensorflow:Initialize variable module/MobilenetV2/expanded_conv_2/project/weights:0 from checkpoint b'C:\\\\Users\\\\Juno\\\\AppData\\\\Local\\\\Temp\\\\tfhub_modules\\\\3f2c9799c0f3aa9c272fc55e33d45daf10a9b3a0\\\\variables\\\\variables' with MobilenetV2/expanded_conv_2/project/weights\n",
      "INFO:tensorflow:Initialize variable module/MobilenetV2/expanded_conv_3/depthwise/BatchNorm/beta:0 from checkpoint b'C:\\\\Users\\\\Juno\\\\AppData\\\\Local\\\\Temp\\\\tfhub_modules\\\\3f2c9799c0f3aa9c272fc55e33d45daf10a9b3a0\\\\variables\\\\variables' with MobilenetV2/expanded_conv_3/depthwise/BatchNorm/beta\n",
      "INFO:tensorflow:Initialize variable module/MobilenetV2/expanded_conv_3/depthwise/BatchNorm/gamma:0 from checkpoint b'C:\\\\Users\\\\Juno\\\\AppData\\\\Local\\\\Temp\\\\tfhub_modules\\\\3f2c9799c0f3aa9c272fc55e33d45daf10a9b3a0\\\\variables\\\\variables' with MobilenetV2/expanded_conv_3/depthwise/BatchNorm/gamma\n",
      "INFO:tensorflow:Initialize variable module/MobilenetV2/expanded_conv_3/depthwise/BatchNorm/moving_mean:0 from checkpoint b'C:\\\\Users\\\\Juno\\\\AppData\\\\Local\\\\Temp\\\\tfhub_modules\\\\3f2c9799c0f3aa9c272fc55e33d45daf10a9b3a0\\\\variables\\\\variables' with MobilenetV2/expanded_conv_3/depthwise/BatchNorm/moving_mean\n",
      "INFO:tensorflow:Initialize variable module/MobilenetV2/expanded_conv_3/depthwise/BatchNorm/moving_variance:0 from checkpoint b'C:\\\\Users\\\\Juno\\\\AppData\\\\Local\\\\Temp\\\\tfhub_modules\\\\3f2c9799c0f3aa9c272fc55e33d45daf10a9b3a0\\\\variables\\\\variables' with MobilenetV2/expanded_conv_3/depthwise/BatchNorm/moving_variance\n",
      "INFO:tensorflow:Initialize variable module/MobilenetV2/expanded_conv_3/depthwise/depthwise_weights:0 from checkpoint b'C:\\\\Users\\\\Juno\\\\AppData\\\\Local\\\\Temp\\\\tfhub_modules\\\\3f2c9799c0f3aa9c272fc55e33d45daf10a9b3a0\\\\variables\\\\variables' with MobilenetV2/expanded_conv_3/depthwise/depthwise_weights\n",
      "INFO:tensorflow:Initialize variable module/MobilenetV2/expanded_conv_3/expand/BatchNorm/beta:0 from checkpoint b'C:\\\\Users\\\\Juno\\\\AppData\\\\Local\\\\Temp\\\\tfhub_modules\\\\3f2c9799c0f3aa9c272fc55e33d45daf10a9b3a0\\\\variables\\\\variables' with MobilenetV2/expanded_conv_3/expand/BatchNorm/beta\n",
      "INFO:tensorflow:Initialize variable module/MobilenetV2/expanded_conv_3/expand/BatchNorm/gamma:0 from checkpoint b'C:\\\\Users\\\\Juno\\\\AppData\\\\Local\\\\Temp\\\\tfhub_modules\\\\3f2c9799c0f3aa9c272fc55e33d45daf10a9b3a0\\\\variables\\\\variables' with MobilenetV2/expanded_conv_3/expand/BatchNorm/gamma\n",
      "INFO:tensorflow:Initialize variable module/MobilenetV2/expanded_conv_3/expand/BatchNorm/moving_mean:0 from checkpoint b'C:\\\\Users\\\\Juno\\\\AppData\\\\Local\\\\Temp\\\\tfhub_modules\\\\3f2c9799c0f3aa9c272fc55e33d45daf10a9b3a0\\\\variables\\\\variables' with MobilenetV2/expanded_conv_3/expand/BatchNorm/moving_mean\n",
      "INFO:tensorflow:Initialize variable module/MobilenetV2/expanded_conv_3/expand/BatchNorm/moving_variance:0 from checkpoint b'C:\\\\Users\\\\Juno\\\\AppData\\\\Local\\\\Temp\\\\tfhub_modules\\\\3f2c9799c0f3aa9c272fc55e33d45daf10a9b3a0\\\\variables\\\\variables' with MobilenetV2/expanded_conv_3/expand/BatchNorm/moving_variance\n",
      "INFO:tensorflow:Initialize variable module/MobilenetV2/expanded_conv_3/expand/weights:0 from checkpoint b'C:\\\\Users\\\\Juno\\\\AppData\\\\Local\\\\Temp\\\\tfhub_modules\\\\3f2c9799c0f3aa9c272fc55e33d45daf10a9b3a0\\\\variables\\\\variables' with MobilenetV2/expanded_conv_3/expand/weights\n",
      "INFO:tensorflow:Initialize variable module/MobilenetV2/expanded_conv_3/project/BatchNorm/beta:0 from checkpoint b'C:\\\\Users\\\\Juno\\\\AppData\\\\Local\\\\Temp\\\\tfhub_modules\\\\3f2c9799c0f3aa9c272fc55e33d45daf10a9b3a0\\\\variables\\\\variables' with MobilenetV2/expanded_conv_3/project/BatchNorm/beta\n",
      "INFO:tensorflow:Initialize variable module/MobilenetV2/expanded_conv_3/project/BatchNorm/gamma:0 from checkpoint b'C:\\\\Users\\\\Juno\\\\AppData\\\\Local\\\\Temp\\\\tfhub_modules\\\\3f2c9799c0f3aa9c272fc55e33d45daf10a9b3a0\\\\variables\\\\variables' with MobilenetV2/expanded_conv_3/project/BatchNorm/gamma\n",
      "INFO:tensorflow:Initialize variable module/MobilenetV2/expanded_conv_3/project/BatchNorm/moving_mean:0 from checkpoint b'C:\\\\Users\\\\Juno\\\\AppData\\\\Local\\\\Temp\\\\tfhub_modules\\\\3f2c9799c0f3aa9c272fc55e33d45daf10a9b3a0\\\\variables\\\\variables' with MobilenetV2/expanded_conv_3/project/BatchNorm/moving_mean\n",
      "INFO:tensorflow:Initialize variable module/MobilenetV2/expanded_conv_3/project/BatchNorm/moving_variance:0 from checkpoint b'C:\\\\Users\\\\Juno\\\\AppData\\\\Local\\\\Temp\\\\tfhub_modules\\\\3f2c9799c0f3aa9c272fc55e33d45daf10a9b3a0\\\\variables\\\\variables' with MobilenetV2/expanded_conv_3/project/BatchNorm/moving_variance\n"
     ]
    },
    {
     "name": "stdout",
     "output_type": "stream",
     "text": [
      "INFO:tensorflow:Initialize variable module/MobilenetV2/expanded_conv_3/project/weights:0 from checkpoint b'C:\\\\Users\\\\Juno\\\\AppData\\\\Local\\\\Temp\\\\tfhub_modules\\\\3f2c9799c0f3aa9c272fc55e33d45daf10a9b3a0\\\\variables\\\\variables' with MobilenetV2/expanded_conv_3/project/weights\n",
      "INFO:tensorflow:Initialize variable module/MobilenetV2/expanded_conv_4/depthwise/BatchNorm/beta:0 from checkpoint b'C:\\\\Users\\\\Juno\\\\AppData\\\\Local\\\\Temp\\\\tfhub_modules\\\\3f2c9799c0f3aa9c272fc55e33d45daf10a9b3a0\\\\variables\\\\variables' with MobilenetV2/expanded_conv_4/depthwise/BatchNorm/beta\n",
      "INFO:tensorflow:Initialize variable module/MobilenetV2/expanded_conv_4/depthwise/BatchNorm/gamma:0 from checkpoint b'C:\\\\Users\\\\Juno\\\\AppData\\\\Local\\\\Temp\\\\tfhub_modules\\\\3f2c9799c0f3aa9c272fc55e33d45daf10a9b3a0\\\\variables\\\\variables' with MobilenetV2/expanded_conv_4/depthwise/BatchNorm/gamma\n",
      "INFO:tensorflow:Initialize variable module/MobilenetV2/expanded_conv_4/depthwise/BatchNorm/moving_mean:0 from checkpoint b'C:\\\\Users\\\\Juno\\\\AppData\\\\Local\\\\Temp\\\\tfhub_modules\\\\3f2c9799c0f3aa9c272fc55e33d45daf10a9b3a0\\\\variables\\\\variables' with MobilenetV2/expanded_conv_4/depthwise/BatchNorm/moving_mean\n",
      "INFO:tensorflow:Initialize variable module/MobilenetV2/expanded_conv_4/depthwise/BatchNorm/moving_variance:0 from checkpoint b'C:\\\\Users\\\\Juno\\\\AppData\\\\Local\\\\Temp\\\\tfhub_modules\\\\3f2c9799c0f3aa9c272fc55e33d45daf10a9b3a0\\\\variables\\\\variables' with MobilenetV2/expanded_conv_4/depthwise/BatchNorm/moving_variance\n",
      "INFO:tensorflow:Initialize variable module/MobilenetV2/expanded_conv_4/depthwise/depthwise_weights:0 from checkpoint b'C:\\\\Users\\\\Juno\\\\AppData\\\\Local\\\\Temp\\\\tfhub_modules\\\\3f2c9799c0f3aa9c272fc55e33d45daf10a9b3a0\\\\variables\\\\variables' with MobilenetV2/expanded_conv_4/depthwise/depthwise_weights\n",
      "INFO:tensorflow:Initialize variable module/MobilenetV2/expanded_conv_4/expand/BatchNorm/beta:0 from checkpoint b'C:\\\\Users\\\\Juno\\\\AppData\\\\Local\\\\Temp\\\\tfhub_modules\\\\3f2c9799c0f3aa9c272fc55e33d45daf10a9b3a0\\\\variables\\\\variables' with MobilenetV2/expanded_conv_4/expand/BatchNorm/beta\n",
      "INFO:tensorflow:Initialize variable module/MobilenetV2/expanded_conv_4/expand/BatchNorm/gamma:0 from checkpoint b'C:\\\\Users\\\\Juno\\\\AppData\\\\Local\\\\Temp\\\\tfhub_modules\\\\3f2c9799c0f3aa9c272fc55e33d45daf10a9b3a0\\\\variables\\\\variables' with MobilenetV2/expanded_conv_4/expand/BatchNorm/gamma\n",
      "INFO:tensorflow:Initialize variable module/MobilenetV2/expanded_conv_4/expand/BatchNorm/moving_mean:0 from checkpoint b'C:\\\\Users\\\\Juno\\\\AppData\\\\Local\\\\Temp\\\\tfhub_modules\\\\3f2c9799c0f3aa9c272fc55e33d45daf10a9b3a0\\\\variables\\\\variables' with MobilenetV2/expanded_conv_4/expand/BatchNorm/moving_mean\n",
      "INFO:tensorflow:Initialize variable module/MobilenetV2/expanded_conv_4/expand/BatchNorm/moving_variance:0 from checkpoint b'C:\\\\Users\\\\Juno\\\\AppData\\\\Local\\\\Temp\\\\tfhub_modules\\\\3f2c9799c0f3aa9c272fc55e33d45daf10a9b3a0\\\\variables\\\\variables' with MobilenetV2/expanded_conv_4/expand/BatchNorm/moving_variance\n",
      "INFO:tensorflow:Initialize variable module/MobilenetV2/expanded_conv_4/expand/weights:0 from checkpoint b'C:\\\\Users\\\\Juno\\\\AppData\\\\Local\\\\Temp\\\\tfhub_modules\\\\3f2c9799c0f3aa9c272fc55e33d45daf10a9b3a0\\\\variables\\\\variables' with MobilenetV2/expanded_conv_4/expand/weights\n",
      "INFO:tensorflow:Initialize variable module/MobilenetV2/expanded_conv_4/project/BatchNorm/beta:0 from checkpoint b'C:\\\\Users\\\\Juno\\\\AppData\\\\Local\\\\Temp\\\\tfhub_modules\\\\3f2c9799c0f3aa9c272fc55e33d45daf10a9b3a0\\\\variables\\\\variables' with MobilenetV2/expanded_conv_4/project/BatchNorm/beta\n",
      "INFO:tensorflow:Initialize variable module/MobilenetV2/expanded_conv_4/project/BatchNorm/gamma:0 from checkpoint b'C:\\\\Users\\\\Juno\\\\AppData\\\\Local\\\\Temp\\\\tfhub_modules\\\\3f2c9799c0f3aa9c272fc55e33d45daf10a9b3a0\\\\variables\\\\variables' with MobilenetV2/expanded_conv_4/project/BatchNorm/gamma\n",
      "INFO:tensorflow:Initialize variable module/MobilenetV2/expanded_conv_4/project/BatchNorm/moving_mean:0 from checkpoint b'C:\\\\Users\\\\Juno\\\\AppData\\\\Local\\\\Temp\\\\tfhub_modules\\\\3f2c9799c0f3aa9c272fc55e33d45daf10a9b3a0\\\\variables\\\\variables' with MobilenetV2/expanded_conv_4/project/BatchNorm/moving_mean\n",
      "INFO:tensorflow:Initialize variable module/MobilenetV2/expanded_conv_4/project/BatchNorm/moving_variance:0 from checkpoint b'C:\\\\Users\\\\Juno\\\\AppData\\\\Local\\\\Temp\\\\tfhub_modules\\\\3f2c9799c0f3aa9c272fc55e33d45daf10a9b3a0\\\\variables\\\\variables' with MobilenetV2/expanded_conv_4/project/BatchNorm/moving_variance\n",
      "INFO:tensorflow:Initialize variable module/MobilenetV2/expanded_conv_4/project/weights:0 from checkpoint b'C:\\\\Users\\\\Juno\\\\AppData\\\\Local\\\\Temp\\\\tfhub_modules\\\\3f2c9799c0f3aa9c272fc55e33d45daf10a9b3a0\\\\variables\\\\variables' with MobilenetV2/expanded_conv_4/project/weights\n",
      "INFO:tensorflow:Initialize variable module/MobilenetV2/expanded_conv_5/depthwise/BatchNorm/beta:0 from checkpoint b'C:\\\\Users\\\\Juno\\\\AppData\\\\Local\\\\Temp\\\\tfhub_modules\\\\3f2c9799c0f3aa9c272fc55e33d45daf10a9b3a0\\\\variables\\\\variables' with MobilenetV2/expanded_conv_5/depthwise/BatchNorm/beta\n",
      "INFO:tensorflow:Initialize variable module/MobilenetV2/expanded_conv_5/depthwise/BatchNorm/gamma:0 from checkpoint b'C:\\\\Users\\\\Juno\\\\AppData\\\\Local\\\\Temp\\\\tfhub_modules\\\\3f2c9799c0f3aa9c272fc55e33d45daf10a9b3a0\\\\variables\\\\variables' with MobilenetV2/expanded_conv_5/depthwise/BatchNorm/gamma\n",
      "INFO:tensorflow:Initialize variable module/MobilenetV2/expanded_conv_5/depthwise/BatchNorm/moving_mean:0 from checkpoint b'C:\\\\Users\\\\Juno\\\\AppData\\\\Local\\\\Temp\\\\tfhub_modules\\\\3f2c9799c0f3aa9c272fc55e33d45daf10a9b3a0\\\\variables\\\\variables' with MobilenetV2/expanded_conv_5/depthwise/BatchNorm/moving_mean\n",
      "INFO:tensorflow:Initialize variable module/MobilenetV2/expanded_conv_5/depthwise/BatchNorm/moving_variance:0 from checkpoint b'C:\\\\Users\\\\Juno\\\\AppData\\\\Local\\\\Temp\\\\tfhub_modules\\\\3f2c9799c0f3aa9c272fc55e33d45daf10a9b3a0\\\\variables\\\\variables' with MobilenetV2/expanded_conv_5/depthwise/BatchNorm/moving_variance\n",
      "INFO:tensorflow:Initialize variable module/MobilenetV2/expanded_conv_5/depthwise/depthwise_weights:0 from checkpoint b'C:\\\\Users\\\\Juno\\\\AppData\\\\Local\\\\Temp\\\\tfhub_modules\\\\3f2c9799c0f3aa9c272fc55e33d45daf10a9b3a0\\\\variables\\\\variables' with MobilenetV2/expanded_conv_5/depthwise/depthwise_weights\n",
      "INFO:tensorflow:Initialize variable module/MobilenetV2/expanded_conv_5/expand/BatchNorm/beta:0 from checkpoint b'C:\\\\Users\\\\Juno\\\\AppData\\\\Local\\\\Temp\\\\tfhub_modules\\\\3f2c9799c0f3aa9c272fc55e33d45daf10a9b3a0\\\\variables\\\\variables' with MobilenetV2/expanded_conv_5/expand/BatchNorm/beta\n",
      "INFO:tensorflow:Initialize variable module/MobilenetV2/expanded_conv_5/expand/BatchNorm/gamma:0 from checkpoint b'C:\\\\Users\\\\Juno\\\\AppData\\\\Local\\\\Temp\\\\tfhub_modules\\\\3f2c9799c0f3aa9c272fc55e33d45daf10a9b3a0\\\\variables\\\\variables' with MobilenetV2/expanded_conv_5/expand/BatchNorm/gamma\n",
      "INFO:tensorflow:Initialize variable module/MobilenetV2/expanded_conv_5/expand/BatchNorm/moving_mean:0 from checkpoint b'C:\\\\Users\\\\Juno\\\\AppData\\\\Local\\\\Temp\\\\tfhub_modules\\\\3f2c9799c0f3aa9c272fc55e33d45daf10a9b3a0\\\\variables\\\\variables' with MobilenetV2/expanded_conv_5/expand/BatchNorm/moving_mean\n",
      "INFO:tensorflow:Initialize variable module/MobilenetV2/expanded_conv_5/expand/BatchNorm/moving_variance:0 from checkpoint b'C:\\\\Users\\\\Juno\\\\AppData\\\\Local\\\\Temp\\\\tfhub_modules\\\\3f2c9799c0f3aa9c272fc55e33d45daf10a9b3a0\\\\variables\\\\variables' with MobilenetV2/expanded_conv_5/expand/BatchNorm/moving_variance\n",
      "INFO:tensorflow:Initialize variable module/MobilenetV2/expanded_conv_5/expand/weights:0 from checkpoint b'C:\\\\Users\\\\Juno\\\\AppData\\\\Local\\\\Temp\\\\tfhub_modules\\\\3f2c9799c0f3aa9c272fc55e33d45daf10a9b3a0\\\\variables\\\\variables' with MobilenetV2/expanded_conv_5/expand/weights\n",
      "INFO:tensorflow:Initialize variable module/MobilenetV2/expanded_conv_5/project/BatchNorm/beta:0 from checkpoint b'C:\\\\Users\\\\Juno\\\\AppData\\\\Local\\\\Temp\\\\tfhub_modules\\\\3f2c9799c0f3aa9c272fc55e33d45daf10a9b3a0\\\\variables\\\\variables' with MobilenetV2/expanded_conv_5/project/BatchNorm/beta\n",
      "INFO:tensorflow:Initialize variable module/MobilenetV2/expanded_conv_5/project/BatchNorm/gamma:0 from checkpoint b'C:\\\\Users\\\\Juno\\\\AppData\\\\Local\\\\Temp\\\\tfhub_modules\\\\3f2c9799c0f3aa9c272fc55e33d45daf10a9b3a0\\\\variables\\\\variables' with MobilenetV2/expanded_conv_5/project/BatchNorm/gamma\n"
     ]
    },
    {
     "name": "stdout",
     "output_type": "stream",
     "text": [
      "INFO:tensorflow:Initialize variable module/MobilenetV2/expanded_conv_5/project/BatchNorm/moving_mean:0 from checkpoint b'C:\\\\Users\\\\Juno\\\\AppData\\\\Local\\\\Temp\\\\tfhub_modules\\\\3f2c9799c0f3aa9c272fc55e33d45daf10a9b3a0\\\\variables\\\\variables' with MobilenetV2/expanded_conv_5/project/BatchNorm/moving_mean\n",
      "INFO:tensorflow:Initialize variable module/MobilenetV2/expanded_conv_5/project/BatchNorm/moving_variance:0 from checkpoint b'C:\\\\Users\\\\Juno\\\\AppData\\\\Local\\\\Temp\\\\tfhub_modules\\\\3f2c9799c0f3aa9c272fc55e33d45daf10a9b3a0\\\\variables\\\\variables' with MobilenetV2/expanded_conv_5/project/BatchNorm/moving_variance\n",
      "INFO:tensorflow:Initialize variable module/MobilenetV2/expanded_conv_5/project/weights:0 from checkpoint b'C:\\\\Users\\\\Juno\\\\AppData\\\\Local\\\\Temp\\\\tfhub_modules\\\\3f2c9799c0f3aa9c272fc55e33d45daf10a9b3a0\\\\variables\\\\variables' with MobilenetV2/expanded_conv_5/project/weights\n",
      "INFO:tensorflow:Initialize variable module/MobilenetV2/expanded_conv_6/depthwise/BatchNorm/beta:0 from checkpoint b'C:\\\\Users\\\\Juno\\\\AppData\\\\Local\\\\Temp\\\\tfhub_modules\\\\3f2c9799c0f3aa9c272fc55e33d45daf10a9b3a0\\\\variables\\\\variables' with MobilenetV2/expanded_conv_6/depthwise/BatchNorm/beta\n",
      "INFO:tensorflow:Initialize variable module/MobilenetV2/expanded_conv_6/depthwise/BatchNorm/gamma:0 from checkpoint b'C:\\\\Users\\\\Juno\\\\AppData\\\\Local\\\\Temp\\\\tfhub_modules\\\\3f2c9799c0f3aa9c272fc55e33d45daf10a9b3a0\\\\variables\\\\variables' with MobilenetV2/expanded_conv_6/depthwise/BatchNorm/gamma\n",
      "INFO:tensorflow:Initialize variable module/MobilenetV2/expanded_conv_6/depthwise/BatchNorm/moving_mean:0 from checkpoint b'C:\\\\Users\\\\Juno\\\\AppData\\\\Local\\\\Temp\\\\tfhub_modules\\\\3f2c9799c0f3aa9c272fc55e33d45daf10a9b3a0\\\\variables\\\\variables' with MobilenetV2/expanded_conv_6/depthwise/BatchNorm/moving_mean\n",
      "INFO:tensorflow:Initialize variable module/MobilenetV2/expanded_conv_6/depthwise/BatchNorm/moving_variance:0 from checkpoint b'C:\\\\Users\\\\Juno\\\\AppData\\\\Local\\\\Temp\\\\tfhub_modules\\\\3f2c9799c0f3aa9c272fc55e33d45daf10a9b3a0\\\\variables\\\\variables' with MobilenetV2/expanded_conv_6/depthwise/BatchNorm/moving_variance\n",
      "INFO:tensorflow:Initialize variable module/MobilenetV2/expanded_conv_6/depthwise/depthwise_weights:0 from checkpoint b'C:\\\\Users\\\\Juno\\\\AppData\\\\Local\\\\Temp\\\\tfhub_modules\\\\3f2c9799c0f3aa9c272fc55e33d45daf10a9b3a0\\\\variables\\\\variables' with MobilenetV2/expanded_conv_6/depthwise/depthwise_weights\n",
      "INFO:tensorflow:Initialize variable module/MobilenetV2/expanded_conv_6/expand/BatchNorm/beta:0 from checkpoint b'C:\\\\Users\\\\Juno\\\\AppData\\\\Local\\\\Temp\\\\tfhub_modules\\\\3f2c9799c0f3aa9c272fc55e33d45daf10a9b3a0\\\\variables\\\\variables' with MobilenetV2/expanded_conv_6/expand/BatchNorm/beta\n",
      "INFO:tensorflow:Initialize variable module/MobilenetV2/expanded_conv_6/expand/BatchNorm/gamma:0 from checkpoint b'C:\\\\Users\\\\Juno\\\\AppData\\\\Local\\\\Temp\\\\tfhub_modules\\\\3f2c9799c0f3aa9c272fc55e33d45daf10a9b3a0\\\\variables\\\\variables' with MobilenetV2/expanded_conv_6/expand/BatchNorm/gamma\n",
      "INFO:tensorflow:Initialize variable module/MobilenetV2/expanded_conv_6/expand/BatchNorm/moving_mean:0 from checkpoint b'C:\\\\Users\\\\Juno\\\\AppData\\\\Local\\\\Temp\\\\tfhub_modules\\\\3f2c9799c0f3aa9c272fc55e33d45daf10a9b3a0\\\\variables\\\\variables' with MobilenetV2/expanded_conv_6/expand/BatchNorm/moving_mean\n",
      "INFO:tensorflow:Initialize variable module/MobilenetV2/expanded_conv_6/expand/BatchNorm/moving_variance:0 from checkpoint b'C:\\\\Users\\\\Juno\\\\AppData\\\\Local\\\\Temp\\\\tfhub_modules\\\\3f2c9799c0f3aa9c272fc55e33d45daf10a9b3a0\\\\variables\\\\variables' with MobilenetV2/expanded_conv_6/expand/BatchNorm/moving_variance\n",
      "INFO:tensorflow:Initialize variable module/MobilenetV2/expanded_conv_6/expand/weights:0 from checkpoint b'C:\\\\Users\\\\Juno\\\\AppData\\\\Local\\\\Temp\\\\tfhub_modules\\\\3f2c9799c0f3aa9c272fc55e33d45daf10a9b3a0\\\\variables\\\\variables' with MobilenetV2/expanded_conv_6/expand/weights\n",
      "INFO:tensorflow:Initialize variable module/MobilenetV2/expanded_conv_6/project/BatchNorm/beta:0 from checkpoint b'C:\\\\Users\\\\Juno\\\\AppData\\\\Local\\\\Temp\\\\tfhub_modules\\\\3f2c9799c0f3aa9c272fc55e33d45daf10a9b3a0\\\\variables\\\\variables' with MobilenetV2/expanded_conv_6/project/BatchNorm/beta\n",
      "INFO:tensorflow:Initialize variable module/MobilenetV2/expanded_conv_6/project/BatchNorm/gamma:0 from checkpoint b'C:\\\\Users\\\\Juno\\\\AppData\\\\Local\\\\Temp\\\\tfhub_modules\\\\3f2c9799c0f3aa9c272fc55e33d45daf10a9b3a0\\\\variables\\\\variables' with MobilenetV2/expanded_conv_6/project/BatchNorm/gamma\n",
      "INFO:tensorflow:Initialize variable module/MobilenetV2/expanded_conv_6/project/BatchNorm/moving_mean:0 from checkpoint b'C:\\\\Users\\\\Juno\\\\AppData\\\\Local\\\\Temp\\\\tfhub_modules\\\\3f2c9799c0f3aa9c272fc55e33d45daf10a9b3a0\\\\variables\\\\variables' with MobilenetV2/expanded_conv_6/project/BatchNorm/moving_mean\n",
      "INFO:tensorflow:Initialize variable module/MobilenetV2/expanded_conv_6/project/BatchNorm/moving_variance:0 from checkpoint b'C:\\\\Users\\\\Juno\\\\AppData\\\\Local\\\\Temp\\\\tfhub_modules\\\\3f2c9799c0f3aa9c272fc55e33d45daf10a9b3a0\\\\variables\\\\variables' with MobilenetV2/expanded_conv_6/project/BatchNorm/moving_variance\n",
      "INFO:tensorflow:Initialize variable module/MobilenetV2/expanded_conv_6/project/weights:0 from checkpoint b'C:\\\\Users\\\\Juno\\\\AppData\\\\Local\\\\Temp\\\\tfhub_modules\\\\3f2c9799c0f3aa9c272fc55e33d45daf10a9b3a0\\\\variables\\\\variables' with MobilenetV2/expanded_conv_6/project/weights\n",
      "INFO:tensorflow:Initialize variable module/MobilenetV2/expanded_conv_7/depthwise/BatchNorm/beta:0 from checkpoint b'C:\\\\Users\\\\Juno\\\\AppData\\\\Local\\\\Temp\\\\tfhub_modules\\\\3f2c9799c0f3aa9c272fc55e33d45daf10a9b3a0\\\\variables\\\\variables' with MobilenetV2/expanded_conv_7/depthwise/BatchNorm/beta\n",
      "INFO:tensorflow:Initialize variable module/MobilenetV2/expanded_conv_7/depthwise/BatchNorm/gamma:0 from checkpoint b'C:\\\\Users\\\\Juno\\\\AppData\\\\Local\\\\Temp\\\\tfhub_modules\\\\3f2c9799c0f3aa9c272fc55e33d45daf10a9b3a0\\\\variables\\\\variables' with MobilenetV2/expanded_conv_7/depthwise/BatchNorm/gamma\n",
      "INFO:tensorflow:Initialize variable module/MobilenetV2/expanded_conv_7/depthwise/BatchNorm/moving_mean:0 from checkpoint b'C:\\\\Users\\\\Juno\\\\AppData\\\\Local\\\\Temp\\\\tfhub_modules\\\\3f2c9799c0f3aa9c272fc55e33d45daf10a9b3a0\\\\variables\\\\variables' with MobilenetV2/expanded_conv_7/depthwise/BatchNorm/moving_mean\n",
      "INFO:tensorflow:Initialize variable module/MobilenetV2/expanded_conv_7/depthwise/BatchNorm/moving_variance:0 from checkpoint b'C:\\\\Users\\\\Juno\\\\AppData\\\\Local\\\\Temp\\\\tfhub_modules\\\\3f2c9799c0f3aa9c272fc55e33d45daf10a9b3a0\\\\variables\\\\variables' with MobilenetV2/expanded_conv_7/depthwise/BatchNorm/moving_variance\n",
      "INFO:tensorflow:Initialize variable module/MobilenetV2/expanded_conv_7/depthwise/depthwise_weights:0 from checkpoint b'C:\\\\Users\\\\Juno\\\\AppData\\\\Local\\\\Temp\\\\tfhub_modules\\\\3f2c9799c0f3aa9c272fc55e33d45daf10a9b3a0\\\\variables\\\\variables' with MobilenetV2/expanded_conv_7/depthwise/depthwise_weights\n",
      "INFO:tensorflow:Initialize variable module/MobilenetV2/expanded_conv_7/expand/BatchNorm/beta:0 from checkpoint b'C:\\\\Users\\\\Juno\\\\AppData\\\\Local\\\\Temp\\\\tfhub_modules\\\\3f2c9799c0f3aa9c272fc55e33d45daf10a9b3a0\\\\variables\\\\variables' with MobilenetV2/expanded_conv_7/expand/BatchNorm/beta\n",
      "INFO:tensorflow:Initialize variable module/MobilenetV2/expanded_conv_7/expand/BatchNorm/gamma:0 from checkpoint b'C:\\\\Users\\\\Juno\\\\AppData\\\\Local\\\\Temp\\\\tfhub_modules\\\\3f2c9799c0f3aa9c272fc55e33d45daf10a9b3a0\\\\variables\\\\variables' with MobilenetV2/expanded_conv_7/expand/BatchNorm/gamma\n",
      "INFO:tensorflow:Initialize variable module/MobilenetV2/expanded_conv_7/expand/BatchNorm/moving_mean:0 from checkpoint b'C:\\\\Users\\\\Juno\\\\AppData\\\\Local\\\\Temp\\\\tfhub_modules\\\\3f2c9799c0f3aa9c272fc55e33d45daf10a9b3a0\\\\variables\\\\variables' with MobilenetV2/expanded_conv_7/expand/BatchNorm/moving_mean\n",
      "INFO:tensorflow:Initialize variable module/MobilenetV2/expanded_conv_7/expand/BatchNorm/moving_variance:0 from checkpoint b'C:\\\\Users\\\\Juno\\\\AppData\\\\Local\\\\Temp\\\\tfhub_modules\\\\3f2c9799c0f3aa9c272fc55e33d45daf10a9b3a0\\\\variables\\\\variables' with MobilenetV2/expanded_conv_7/expand/BatchNorm/moving_variance\n",
      "INFO:tensorflow:Initialize variable module/MobilenetV2/expanded_conv_7/expand/weights:0 from checkpoint b'C:\\\\Users\\\\Juno\\\\AppData\\\\Local\\\\Temp\\\\tfhub_modules\\\\3f2c9799c0f3aa9c272fc55e33d45daf10a9b3a0\\\\variables\\\\variables' with MobilenetV2/expanded_conv_7/expand/weights\n"
     ]
    },
    {
     "name": "stdout",
     "output_type": "stream",
     "text": [
      "INFO:tensorflow:Initialize variable module/MobilenetV2/expanded_conv_7/project/BatchNorm/beta:0 from checkpoint b'C:\\\\Users\\\\Juno\\\\AppData\\\\Local\\\\Temp\\\\tfhub_modules\\\\3f2c9799c0f3aa9c272fc55e33d45daf10a9b3a0\\\\variables\\\\variables' with MobilenetV2/expanded_conv_7/project/BatchNorm/beta\n",
      "INFO:tensorflow:Initialize variable module/MobilenetV2/expanded_conv_7/project/BatchNorm/gamma:0 from checkpoint b'C:\\\\Users\\\\Juno\\\\AppData\\\\Local\\\\Temp\\\\tfhub_modules\\\\3f2c9799c0f3aa9c272fc55e33d45daf10a9b3a0\\\\variables\\\\variables' with MobilenetV2/expanded_conv_7/project/BatchNorm/gamma\n",
      "INFO:tensorflow:Initialize variable module/MobilenetV2/expanded_conv_7/project/BatchNorm/moving_mean:0 from checkpoint b'C:\\\\Users\\\\Juno\\\\AppData\\\\Local\\\\Temp\\\\tfhub_modules\\\\3f2c9799c0f3aa9c272fc55e33d45daf10a9b3a0\\\\variables\\\\variables' with MobilenetV2/expanded_conv_7/project/BatchNorm/moving_mean\n",
      "INFO:tensorflow:Initialize variable module/MobilenetV2/expanded_conv_7/project/BatchNorm/moving_variance:0 from checkpoint b'C:\\\\Users\\\\Juno\\\\AppData\\\\Local\\\\Temp\\\\tfhub_modules\\\\3f2c9799c0f3aa9c272fc55e33d45daf10a9b3a0\\\\variables\\\\variables' with MobilenetV2/expanded_conv_7/project/BatchNorm/moving_variance\n",
      "INFO:tensorflow:Initialize variable module/MobilenetV2/expanded_conv_7/project/weights:0 from checkpoint b'C:\\\\Users\\\\Juno\\\\AppData\\\\Local\\\\Temp\\\\tfhub_modules\\\\3f2c9799c0f3aa9c272fc55e33d45daf10a9b3a0\\\\variables\\\\variables' with MobilenetV2/expanded_conv_7/project/weights\n",
      "INFO:tensorflow:Initialize variable module/MobilenetV2/expanded_conv_8/depthwise/BatchNorm/beta:0 from checkpoint b'C:\\\\Users\\\\Juno\\\\AppData\\\\Local\\\\Temp\\\\tfhub_modules\\\\3f2c9799c0f3aa9c272fc55e33d45daf10a9b3a0\\\\variables\\\\variables' with MobilenetV2/expanded_conv_8/depthwise/BatchNorm/beta\n",
      "INFO:tensorflow:Initialize variable module/MobilenetV2/expanded_conv_8/depthwise/BatchNorm/gamma:0 from checkpoint b'C:\\\\Users\\\\Juno\\\\AppData\\\\Local\\\\Temp\\\\tfhub_modules\\\\3f2c9799c0f3aa9c272fc55e33d45daf10a9b3a0\\\\variables\\\\variables' with MobilenetV2/expanded_conv_8/depthwise/BatchNorm/gamma\n",
      "INFO:tensorflow:Initialize variable module/MobilenetV2/expanded_conv_8/depthwise/BatchNorm/moving_mean:0 from checkpoint b'C:\\\\Users\\\\Juno\\\\AppData\\\\Local\\\\Temp\\\\tfhub_modules\\\\3f2c9799c0f3aa9c272fc55e33d45daf10a9b3a0\\\\variables\\\\variables' with MobilenetV2/expanded_conv_8/depthwise/BatchNorm/moving_mean\n",
      "INFO:tensorflow:Initialize variable module/MobilenetV2/expanded_conv_8/depthwise/BatchNorm/moving_variance:0 from checkpoint b'C:\\\\Users\\\\Juno\\\\AppData\\\\Local\\\\Temp\\\\tfhub_modules\\\\3f2c9799c0f3aa9c272fc55e33d45daf10a9b3a0\\\\variables\\\\variables' with MobilenetV2/expanded_conv_8/depthwise/BatchNorm/moving_variance\n",
      "INFO:tensorflow:Initialize variable module/MobilenetV2/expanded_conv_8/depthwise/depthwise_weights:0 from checkpoint b'C:\\\\Users\\\\Juno\\\\AppData\\\\Local\\\\Temp\\\\tfhub_modules\\\\3f2c9799c0f3aa9c272fc55e33d45daf10a9b3a0\\\\variables\\\\variables' with MobilenetV2/expanded_conv_8/depthwise/depthwise_weights\n",
      "INFO:tensorflow:Initialize variable module/MobilenetV2/expanded_conv_8/expand/BatchNorm/beta:0 from checkpoint b'C:\\\\Users\\\\Juno\\\\AppData\\\\Local\\\\Temp\\\\tfhub_modules\\\\3f2c9799c0f3aa9c272fc55e33d45daf10a9b3a0\\\\variables\\\\variables' with MobilenetV2/expanded_conv_8/expand/BatchNorm/beta\n",
      "INFO:tensorflow:Initialize variable module/MobilenetV2/expanded_conv_8/expand/BatchNorm/gamma:0 from checkpoint b'C:\\\\Users\\\\Juno\\\\AppData\\\\Local\\\\Temp\\\\tfhub_modules\\\\3f2c9799c0f3aa9c272fc55e33d45daf10a9b3a0\\\\variables\\\\variables' with MobilenetV2/expanded_conv_8/expand/BatchNorm/gamma\n",
      "INFO:tensorflow:Initialize variable module/MobilenetV2/expanded_conv_8/expand/BatchNorm/moving_mean:0 from checkpoint b'C:\\\\Users\\\\Juno\\\\AppData\\\\Local\\\\Temp\\\\tfhub_modules\\\\3f2c9799c0f3aa9c272fc55e33d45daf10a9b3a0\\\\variables\\\\variables' with MobilenetV2/expanded_conv_8/expand/BatchNorm/moving_mean\n",
      "INFO:tensorflow:Initialize variable module/MobilenetV2/expanded_conv_8/expand/BatchNorm/moving_variance:0 from checkpoint b'C:\\\\Users\\\\Juno\\\\AppData\\\\Local\\\\Temp\\\\tfhub_modules\\\\3f2c9799c0f3aa9c272fc55e33d45daf10a9b3a0\\\\variables\\\\variables' with MobilenetV2/expanded_conv_8/expand/BatchNorm/moving_variance\n",
      "INFO:tensorflow:Initialize variable module/MobilenetV2/expanded_conv_8/expand/weights:0 from checkpoint b'C:\\\\Users\\\\Juno\\\\AppData\\\\Local\\\\Temp\\\\tfhub_modules\\\\3f2c9799c0f3aa9c272fc55e33d45daf10a9b3a0\\\\variables\\\\variables' with MobilenetV2/expanded_conv_8/expand/weights\n",
      "INFO:tensorflow:Initialize variable module/MobilenetV2/expanded_conv_8/project/BatchNorm/beta:0 from checkpoint b'C:\\\\Users\\\\Juno\\\\AppData\\\\Local\\\\Temp\\\\tfhub_modules\\\\3f2c9799c0f3aa9c272fc55e33d45daf10a9b3a0\\\\variables\\\\variables' with MobilenetV2/expanded_conv_8/project/BatchNorm/beta\n",
      "INFO:tensorflow:Initialize variable module/MobilenetV2/expanded_conv_8/project/BatchNorm/gamma:0 from checkpoint b'C:\\\\Users\\\\Juno\\\\AppData\\\\Local\\\\Temp\\\\tfhub_modules\\\\3f2c9799c0f3aa9c272fc55e33d45daf10a9b3a0\\\\variables\\\\variables' with MobilenetV2/expanded_conv_8/project/BatchNorm/gamma\n",
      "INFO:tensorflow:Initialize variable module/MobilenetV2/expanded_conv_8/project/BatchNorm/moving_mean:0 from checkpoint b'C:\\\\Users\\\\Juno\\\\AppData\\\\Local\\\\Temp\\\\tfhub_modules\\\\3f2c9799c0f3aa9c272fc55e33d45daf10a9b3a0\\\\variables\\\\variables' with MobilenetV2/expanded_conv_8/project/BatchNorm/moving_mean\n",
      "INFO:tensorflow:Initialize variable module/MobilenetV2/expanded_conv_8/project/BatchNorm/moving_variance:0 from checkpoint b'C:\\\\Users\\\\Juno\\\\AppData\\\\Local\\\\Temp\\\\tfhub_modules\\\\3f2c9799c0f3aa9c272fc55e33d45daf10a9b3a0\\\\variables\\\\variables' with MobilenetV2/expanded_conv_8/project/BatchNorm/moving_variance\n",
      "INFO:tensorflow:Initialize variable module/MobilenetV2/expanded_conv_8/project/weights:0 from checkpoint b'C:\\\\Users\\\\Juno\\\\AppData\\\\Local\\\\Temp\\\\tfhub_modules\\\\3f2c9799c0f3aa9c272fc55e33d45daf10a9b3a0\\\\variables\\\\variables' with MobilenetV2/expanded_conv_8/project/weights\n",
      "INFO:tensorflow:Initialize variable module/MobilenetV2/expanded_conv_9/depthwise/BatchNorm/beta:0 from checkpoint b'C:\\\\Users\\\\Juno\\\\AppData\\\\Local\\\\Temp\\\\tfhub_modules\\\\3f2c9799c0f3aa9c272fc55e33d45daf10a9b3a0\\\\variables\\\\variables' with MobilenetV2/expanded_conv_9/depthwise/BatchNorm/beta\n",
      "INFO:tensorflow:Initialize variable module/MobilenetV2/expanded_conv_9/depthwise/BatchNorm/gamma:0 from checkpoint b'C:\\\\Users\\\\Juno\\\\AppData\\\\Local\\\\Temp\\\\tfhub_modules\\\\3f2c9799c0f3aa9c272fc55e33d45daf10a9b3a0\\\\variables\\\\variables' with MobilenetV2/expanded_conv_9/depthwise/BatchNorm/gamma\n",
      "INFO:tensorflow:Initialize variable module/MobilenetV2/expanded_conv_9/depthwise/BatchNorm/moving_mean:0 from checkpoint b'C:\\\\Users\\\\Juno\\\\AppData\\\\Local\\\\Temp\\\\tfhub_modules\\\\3f2c9799c0f3aa9c272fc55e33d45daf10a9b3a0\\\\variables\\\\variables' with MobilenetV2/expanded_conv_9/depthwise/BatchNorm/moving_mean\n",
      "INFO:tensorflow:Initialize variable module/MobilenetV2/expanded_conv_9/depthwise/BatchNorm/moving_variance:0 from checkpoint b'C:\\\\Users\\\\Juno\\\\AppData\\\\Local\\\\Temp\\\\tfhub_modules\\\\3f2c9799c0f3aa9c272fc55e33d45daf10a9b3a0\\\\variables\\\\variables' with MobilenetV2/expanded_conv_9/depthwise/BatchNorm/moving_variance\n",
      "INFO:tensorflow:Initialize variable module/MobilenetV2/expanded_conv_9/depthwise/depthwise_weights:0 from checkpoint b'C:\\\\Users\\\\Juno\\\\AppData\\\\Local\\\\Temp\\\\tfhub_modules\\\\3f2c9799c0f3aa9c272fc55e33d45daf10a9b3a0\\\\variables\\\\variables' with MobilenetV2/expanded_conv_9/depthwise/depthwise_weights\n",
      "INFO:tensorflow:Initialize variable module/MobilenetV2/expanded_conv_9/expand/BatchNorm/beta:0 from checkpoint b'C:\\\\Users\\\\Juno\\\\AppData\\\\Local\\\\Temp\\\\tfhub_modules\\\\3f2c9799c0f3aa9c272fc55e33d45daf10a9b3a0\\\\variables\\\\variables' with MobilenetV2/expanded_conv_9/expand/BatchNorm/beta\n",
      "INFO:tensorflow:Initialize variable module/MobilenetV2/expanded_conv_9/expand/BatchNorm/gamma:0 from checkpoint b'C:\\\\Users\\\\Juno\\\\AppData\\\\Local\\\\Temp\\\\tfhub_modules\\\\3f2c9799c0f3aa9c272fc55e33d45daf10a9b3a0\\\\variables\\\\variables' with MobilenetV2/expanded_conv_9/expand/BatchNorm/gamma\n",
      "INFO:tensorflow:Initialize variable module/MobilenetV2/expanded_conv_9/expand/BatchNorm/moving_mean:0 from checkpoint b'C:\\\\Users\\\\Juno\\\\AppData\\\\Local\\\\Temp\\\\tfhub_modules\\\\3f2c9799c0f3aa9c272fc55e33d45daf10a9b3a0\\\\variables\\\\variables' with MobilenetV2/expanded_conv_9/expand/BatchNorm/moving_mean\n"
     ]
    },
    {
     "name": "stdout",
     "output_type": "stream",
     "text": [
      "INFO:tensorflow:Initialize variable module/MobilenetV2/expanded_conv_9/expand/BatchNorm/moving_variance:0 from checkpoint b'C:\\\\Users\\\\Juno\\\\AppData\\\\Local\\\\Temp\\\\tfhub_modules\\\\3f2c9799c0f3aa9c272fc55e33d45daf10a9b3a0\\\\variables\\\\variables' with MobilenetV2/expanded_conv_9/expand/BatchNorm/moving_variance\n",
      "INFO:tensorflow:Initialize variable module/MobilenetV2/expanded_conv_9/expand/weights:0 from checkpoint b'C:\\\\Users\\\\Juno\\\\AppData\\\\Local\\\\Temp\\\\tfhub_modules\\\\3f2c9799c0f3aa9c272fc55e33d45daf10a9b3a0\\\\variables\\\\variables' with MobilenetV2/expanded_conv_9/expand/weights\n",
      "INFO:tensorflow:Initialize variable module/MobilenetV2/expanded_conv_9/project/BatchNorm/beta:0 from checkpoint b'C:\\\\Users\\\\Juno\\\\AppData\\\\Local\\\\Temp\\\\tfhub_modules\\\\3f2c9799c0f3aa9c272fc55e33d45daf10a9b3a0\\\\variables\\\\variables' with MobilenetV2/expanded_conv_9/project/BatchNorm/beta\n",
      "INFO:tensorflow:Initialize variable module/MobilenetV2/expanded_conv_9/project/BatchNorm/gamma:0 from checkpoint b'C:\\\\Users\\\\Juno\\\\AppData\\\\Local\\\\Temp\\\\tfhub_modules\\\\3f2c9799c0f3aa9c272fc55e33d45daf10a9b3a0\\\\variables\\\\variables' with MobilenetV2/expanded_conv_9/project/BatchNorm/gamma\n",
      "INFO:tensorflow:Initialize variable module/MobilenetV2/expanded_conv_9/project/BatchNorm/moving_mean:0 from checkpoint b'C:\\\\Users\\\\Juno\\\\AppData\\\\Local\\\\Temp\\\\tfhub_modules\\\\3f2c9799c0f3aa9c272fc55e33d45daf10a9b3a0\\\\variables\\\\variables' with MobilenetV2/expanded_conv_9/project/BatchNorm/moving_mean\n",
      "INFO:tensorflow:Initialize variable module/MobilenetV2/expanded_conv_9/project/BatchNorm/moving_variance:0 from checkpoint b'C:\\\\Users\\\\Juno\\\\AppData\\\\Local\\\\Temp\\\\tfhub_modules\\\\3f2c9799c0f3aa9c272fc55e33d45daf10a9b3a0\\\\variables\\\\variables' with MobilenetV2/expanded_conv_9/project/BatchNorm/moving_variance\n",
      "INFO:tensorflow:Initialize variable module/MobilenetV2/expanded_conv_9/project/weights:0 from checkpoint b'C:\\\\Users\\\\Juno\\\\AppData\\\\Local\\\\Temp\\\\tfhub_modules\\\\3f2c9799c0f3aa9c272fc55e33d45daf10a9b3a0\\\\variables\\\\variables' with MobilenetV2/expanded_conv_9/project/weights\n"
     ]
    }
   ],
   "source": [
    "import tensorflow_hub as hub\n",
    "module = hub.Module(\"https://tfhub.dev/google/imagenet/mobilenet_v2_100_96/feature_vector/2\")"
   ]
  },
  {
   "cell_type": "code",
   "execution_count": 3,
   "metadata": {},
   "outputs": [],
   "source": [
    "import os\n",
    "import PIL.Image as pil \n",
    "from scipy.misc import imread, imresize "
   ]
  },
  {
   "cell_type": "code",
   "execution_count": 7,
   "metadata": {},
   "outputs": [
    {
     "name": "stdout",
     "output_type": "stream",
     "text": [
      "C:\\Users\\Juno\\Desktop\\juno_project\\Webtoon-Recommender_System./0_Naverimages/main_image_naver/color/\n",
      "now: 0 finished!!:\r",
      "now: 1 finished!!:\r",
      "now: 2 finished!!:\r",
      "now: 3 finished!!:\r",
      "now: 4 finished!!:\r",
      "now: 5 finished!!:\r",
      "now: 6 finished!!:\r",
      "now: 7 finished!!:\r",
      "now: 8 finished!!:\r",
      "now: 9 finished!!:\r",
      "now: 10 finished!!:\r",
      "now: 11 finished!!:\r",
      "now: 12 finished!!:\r",
      "now: 13 finished!!:\r",
      "now: 14 finished!!:\r",
      "now: 15 finished!!:\r"
     ]
    },
    {
     "name": "stderr",
     "output_type": "stream",
     "text": [
      "C:\\ProgramData\\Anaconda3\\lib\\site-packages\\ipykernel_launcher.py:22: DeprecationWarning: `imresize` is deprecated!\n",
      "`imresize` is deprecated in SciPy 1.0.0, and will be removed in 1.2.0.\n",
      "Use ``skimage.transform.resize`` instead.\n"
     ]
    },
    {
     "name": "stdout",
     "output_type": "stream",
     "text": [
      "Total 745 images loaded.\r"
     ]
    }
   ],
   "source": [
    "# Load info\n",
    "info = pd.read_csv(\"data_Juno/webtoon_naver_info_by_genres.csv\")\n",
    "\n",
    "# make dict\n",
    "dic = {}\n",
    "for i, id in enumerate(info.unique_id):\n",
    "    dic[id] = i\n",
    "\n",
    "# Get main image vectors\n",
    "path = cwd + \"./0_Naverimages/main_image_naver/color/\"\n",
    "print(path)\n",
    "flist = os.listdir(path)\n",
    "n_class = len(dic)\n",
    "imgcnt = 0\n",
    "for f in flist:\n",
    "    fullpath = os.path.join(path,f)\n",
    "    currimg = np.asarray(pil.open(fullpath).convert(\"RGB\"))\n",
    "    img = currimg / 255.\n",
    "#     print(img.shape)\n",
    "#     print(imresize(img, (64,64)).shape)\n",
    "#     print(img)\n",
    "    img_r = imresize(img, (96,96)) # mobileNet 고정 input size : (96,96)\n",
    "    imgvec = np.reshape(img_r, (1,-1))\n",
    "    \n",
    "    # make labels\n",
    "    id_check = int(f.split(\".\")[0])\n",
    "    label = dic[id_check]\n",
    "    curr_label = np.eye(n_class, n_class)[label:label+1, :]\n",
    "    if imgcnt == 0:\n",
    "        totalimg = imgvec\n",
    "        totallabel = curr_label\n",
    "    else:\n",
    "        totalimg = np.concatenate((totalimg, imgvec), axis=0)\n",
    "        totallabel = np.concatenate((totallabel, curr_label), axis=0)\n",
    "    print(\"now: %s finished!!:\" % imgcnt, end='\\r')\n",
    "    imgcnt += 1\n",
    "print (\"Total %d images loaded.\" % (imgcnt) , end='\\r')"
   ]
  },
  {
   "cell_type": "code",
   "execution_count": 15,
   "metadata": {},
   "outputs": [],
   "source": [
    "totalimg = totalimg / 255.\n",
    "height,width = hub.get_expected_image_size(module)\n",
    "images = tf.reshape(totalimg, shape=[-1,height,width,3])\n",
    "features = module(tf.cast(images, dtype=tf.float32))"
   ]
  },
  {
   "cell_type": "code",
   "execution_count": 17,
   "metadata": {},
   "outputs": [],
   "source": [
    "target_image = tf.reshape(images[0], [-1,height,width,3])\n",
    "target_features = module(tf.cast(target_image, dtype=tf.float32))"
   ]
  },
  {
   "cell_type": "code",
   "execution_count": 31,
   "metadata": {},
   "outputs": [],
   "source": [
    "# compute the cosine similarity\n",
    "dot = tf.matmul(features, tf.transpose(target_features))\n",
    "similarity = tf.divide(dot, tf.reshape(tf.norm(features, axis=1) * tf.norm(target_features),shape=[-1,1]))\n",
    "similarity = tf.reshape(similarity, [-1])"
   ]
  },
  {
   "cell_type": "code",
   "execution_count": 32,
   "metadata": {},
   "outputs": [],
   "source": [
    "with tf.Session() as sess:\n",
    "    sess.run(tf.global_variables_initializer())\n",
    "    outputs = sess.run(similarity)"
   ]
  },
  {
   "cell_type": "code",
   "execution_count": 34,
   "metadata": {
    "scrolled": true
   },
   "outputs": [
    {
     "data": {
      "text/plain": [
       "array([  0, 309, 335,  54, 631, 528, 661, 100, 543, 203, 208, 106, 676,\n",
       "       709, 302, 366, 623, 526, 416, 694,   3, 730, 731, 459, 350, 493,\n",
       "       103, 569, 357, 326, 380,  39,  95, 432, 157, 327, 721,  93, 739,\n",
       "       454, 225, 443, 170, 502, 355, 635, 271, 699, 134, 401, 688, 315,\n",
       "        14, 590,  37, 102, 121, 369, 650, 450, 492, 706, 617, 566, 636,\n",
       "       278, 200, 482, 685, 501, 117, 209,   2, 371, 162, 405, 535, 589,\n",
       "       116, 507, 740, 144, 578, 560, 490, 541,  47, 268, 250,  27, 689,\n",
       "       408, 570,  96, 312, 285,  17, 741, 557, 660, 725,  19, 677, 417,\n",
       "       345, 687, 105, 436, 646, 392, 125, 282, 379,   5, 172, 136, 128,\n",
       "       343, 729,  10, 260, 620, 274, 386, 475, 736, 194, 423,  44, 231,\n",
       "       622,  50,  11, 219, 180, 242, 424, 129, 230, 506, 185, 722, 592,\n",
       "       393,  91, 281, 264, 255, 659, 691, 160,  69, 733, 728, 259, 720,\n",
       "       473, 139, 126, 484,  94, 715, 323, 228, 239, 648, 619, 421,  90,\n",
       "       296,  85, 497, 294, 211, 198, 337, 155, 130, 452, 154, 491, 440,\n",
       "       270, 561, 682, 224,   6, 696, 192, 480, 517, 168, 717, 705, 735,\n",
       "       288, 532, 293, 205, 563, 520, 678, 159, 485, 133, 652, 120, 466,\n",
       "       431,  16, 644, 248, 567, 118, 283, 150, 245, 332, 553, 146,  15,\n",
       "       254, 253, 279, 167, 476,  43, 707, 603, 624, 719, 552, 177,  99,\n",
       "       675, 444, 289, 183, 101, 227, 503, 519, 303, 429, 684, 333,  55,\n",
       "       549, 202,  56, 197, 548, 426,  13, 657, 261, 607, 718,  86, 558,\n",
       "        24, 137,  88, 427, 511, 263, 370, 574, 742, 163, 257,   8,  33,\n",
       "        63, 184, 489,  26, 500, 204,  12, 104, 403, 737,  74, 639, 734,\n",
       "       114, 605, 145,  25, 321, 247, 593, 140, 176, 576, 649, 262, 387,\n",
       "        80, 627, 328, 522, 394, 218, 336,  23, 124, 587,  83, 269, 679,\n",
       "       554, 633, 390, 510, 182,  31, 702, 711, 186,  82, 212, 348, 645,\n",
       "        64, 138, 131, 654, 330, 626, 276, 643,  38, 701, 534, 252, 713,\n",
       "       584, 611, 178, 594, 547, 238,  48, 434, 291,  78, 378, 585, 455,\n",
       "       108, 286, 732, 166, 583, 458, 407, 395, 235, 539, 604, 290, 226,\n",
       "       445, 581, 743, 588, 726, 193, 320, 499, 119, 664, 256, 641, 642,\n",
       "       540, 479, 174, 595, 236, 158,  62, 287,   4, 258, 107, 363, 683,\n",
       "       241, 122, 361, 409, 686, 448, 618, 550, 210, 632, 147, 703, 377,\n",
       "       391,  28, 406,   9,  72, 123, 141, 206, 693, 672, 509, 381, 597,\n",
       "       389, 428, 629,  79, 360, 514, 494, 384, 161, 697, 613, 246, 222,\n",
       "       324, 562,   7, 478, 513, 655, 441, 442,  36, 251, 530, 305, 671,\n",
       "       342, 724, 700, 132, 433, 471, 515, 504, 349, 234, 383, 280, 354,\n",
       "       195, 565, 301, 414, 599, 616, 621, 640, 372, 637, 317, 164, 420,\n",
       "       625, 368, 304, 525, 273,  52, 422, 334, 630, 310, 127, 340, 364,\n",
       "       311, 486, 190, 714, 367, 598, 673, 446, 658, 551, 572, 153, 351,\n",
       "       663, 374, 545, 723, 217, 201, 179,  81, 600, 653, 249,  40, 115,\n",
       "       111, 344, 439, 710, 275,  22,  71, 669, 615, 171, 447, 524, 376,\n",
       "       339, 483, 365, 353, 712, 666, 299, 606, 142,  42, 472, 169, 744,\n",
       "       402, 518, 690, 156, 207, 110, 152, 680, 467, 404, 580, 385, 477,\n",
       "       695, 221,  68, 463, 331, 727,  89, 704, 173,  45, 536, 573, 399,\n",
       "       555,  30, 670, 612,  49, 165,  41, 109, 521,  60, 474, 571, 415,\n",
       "       265, 559, 481, 634,  58, 356,  92, 614, 413, 410, 149, 425,  73,\n",
       "       451,  57, 189, 537, 272, 647,  84,  34,  20, 199,  76, 319, 538,\n",
       "       148, 461, 508, 113, 716, 662,  77,  59, 591, 708, 181, 216, 313,\n",
       "       329, 347, 375, 582, 382, 529, 292, 306, 464, 579, 297, 533, 396,\n",
       "       628, 318, 373, 674,  98, 495, 412, 277, 419, 223, 596, 488,  61,\n",
       "       469, 564,  51, 187, 411, 546, 586, 438,  97,  32, 496, 298, 398,\n",
       "       456, 568,  21, 498, 316,  46,  75, 610, 358, 240, 243, 151, 341,\n",
       "       531, 601,  29, 362, 284, 577, 175, 656, 602, 668, 232, 295, 233,\n",
       "        35,  66, 400, 505, 418, 244,  18,  53, 237, 698, 665, 267, 527,\n",
       "       516, 322, 307, 214, 220, 346, 460, 308, 325, 266, 352, 609,  70,\n",
       "       457, 229, 359, 681, 544, 213, 188, 523, 487, 462, 135, 215, 300,\n",
       "        65, 437, 191, 512, 542, 638, 651, 468,  67, 397, 196, 465, 112,\n",
       "        87, 453, 449, 470, 338, 314, 692, 738, 435, 430, 608, 143, 667,\n",
       "       575, 556, 388,   1], dtype=int64)"
      ]
     },
     "execution_count": 34,
     "metadata": {},
     "output_type": "execute_result"
    }
   ],
   "source": [
    "outputs.argsort()[::-1]"
   ]
  },
  {
   "cell_type": "code",
   "execution_count": 39,
   "metadata": {},
   "outputs": [
    {
     "data": {
      "text/plain": [
       "('103391.png', '702165.png')"
      ]
     },
     "execution_count": 39,
     "metadata": {},
     "output_type": "execute_result"
    }
   ],
   "source": [
    "flist[0], flist[631]"
   ]
  }
 ],
 "metadata": {
  "kernelspec": {
   "display_name": "Python 3",
   "language": "python",
   "name": "python3"
  },
  "language_info": {
   "codemirror_mode": {
    "name": "ipython",
    "version": 3
   },
   "file_extension": ".py",
   "mimetype": "text/x-python",
   "name": "python",
   "nbconvert_exporter": "python",
   "pygments_lexer": "ipython3",
   "version": "3.6.6"
  }
 },
 "nbformat": 4,
 "nbformat_minor": 2
}
