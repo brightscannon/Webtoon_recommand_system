{
 "cells": [
  {
   "cell_type": "markdown",
   "metadata": {},
   "source": [
    "# ■ 음악 장르 분류기 (Tensorflow 작성)\n",
    "\n",
    "- ### 교육자료(28페이지 부터)\n",
    "  - https://www.dropbox.com/s/j104afvzutjas25/30.%20Deep%20Learning%20%EC%9D%B4%EB%A1%A0%28DNN_CNN_RNN%29.pdf\n",
    "- ### 데이터셋\n",
    "  - (http://marsyasweb.appspot.com/download/data_sets/)\n",
    "- #### 음원 라이브러리가 작동하지 않을때 적용가능 해결법들\n",
    "  - (https://stackoverflow.com/questions/2060628/reading-wav-files-in-python)"
   ]
  },
  {
   "cell_type": "code",
   "execution_count": 24,
   "metadata": {},
   "outputs": [],
   "source": [
    "from pylab import *\n",
    "import numpy as np\n",
    "import scipy.signal\n",
    "import scipy.fftpack\n",
    "from scipy.io import wavfile as wvf # 이거 안되네 슈...\n",
    "from scipy.fftpack import dct\n",
    "import os\n",
    "import decimal # 특이한 라이브러리 (반올림 함수짤때 사용)\n",
    "\n",
    "# wavfile로 안읽어진다 ㅜㅜ 따라서 다른방법 시도\n",
    "import pyaudio\n",
    "import soundfile as sf # 이걸 사용하자."
   ]
  },
  {
   "cell_type": "markdown",
   "metadata": {},
   "source": [
    "## wav파일-->Array변환, Y값 라벨링"
   ]
  },
  {
   "cell_type": "code",
   "execution_count": 117,
   "metadata": {},
   "outputs": [
    {
     "name": "stdout",
     "output_type": "stream",
     "text": [
      "blues,classical,country,disco,hiphop,jazz,metal,pop,reggae,rock,"
     ]
    },
    {
     "data": {
      "text/plain": [
       "array([0, 0, 0, 0, 0, 0, 0, 0, 0, 0, 0, 0, 0, 0, 0, 0, 0, 0, 0, 0, 0, 0,\n",
       "       0, 0, 0, 0, 0, 0, 0, 0, 0, 0, 0, 0, 0, 0, 0, 0, 0, 0, 0, 0, 0, 0,\n",
       "       0, 0, 0, 0, 0, 0, 0, 0, 0, 0, 0, 0, 0, 0, 0, 0, 0, 0, 0, 0, 0, 0,\n",
       "       0, 0, 0, 0, 0, 0, 0, 0, 0, 0, 0, 0, 0, 0, 0, 0, 0, 0, 0, 0, 0, 0,\n",
       "       0, 0, 0, 0, 0, 0, 0, 0, 0, 0, 0, 0], dtype=int64)"
      ]
     },
     "execution_count": 117,
     "metadata": {},
     "output_type": "execute_result"
    }
   ],
   "source": [
    "# Y값 수집 및 처리\n",
    "y_list = []\n",
    "for wav_label in wav_labels:\n",
    "    print(wav_label,end=\",\")\n",
    "    for wav_f in os.listdir(wav_dir+wav_label):\n",
    "        y_list.append(wav_label)\n",
    "        \n",
    "from sklearn.preprocessing import LabelEncoder\n",
    "le = LabelEncoder()\n",
    "y = y_list\n",
    "le.fit(y)\n",
    "y= le.transform(y)\n",
    "y[:100]"
   ]
  },
  {
   "cell_type": "code",
   "execution_count": 118,
   "metadata": {},
   "outputs": [
    {
     "name": "stdout",
     "output_type": "stream",
     "text": [
      "['blues', 'classical', 'country', 'disco', 'hiphop', 'jazz', 'metal', 'pop', 'reggae', 'rock']blues\n",
      "--> ok!                                                                                                                    \n",
      "classical\n",
      "--> ok!                                                                                                                                                                                                   \n",
      "country\n",
      "--> ok!                                                                                                                                                    \n",
      "disco\n",
      "--> ok!                                                                                      \n",
      "hiphop\n",
      "--> ok!                                                                                                                                                   \n",
      "jazz\n",
      "--> ok!                                                                                                                                                 \n",
      "metal\n",
      "--> ok!                                                                                                                    \n",
      "pop\n",
      "--> ok!                                                                                    \n",
      "reggae\n",
      "--> ok!                                                                                                                     \n",
      "rock\n",
      "--> ok!                                                                                                                                                 \n"
     ]
    }
   ],
   "source": [
    "# X값 데이터 수집\n",
    "# WAV 파일 읽은 후 Array 형태로 변환합니다.\n",
    "wav_dir = 'D:/d_sound_datas/GTZAN_genre_collection/'\n",
    "\n",
    "wav_labels = os.listdir(wav_dir)\n",
    "x = []\n",
    "\n",
    "print(wav_labels[:],end=\"\")\n",
    "for wav_label in wav_labels:\n",
    "    print(wav_label,end=\"\\n\")\n",
    "    for wav_f in os.listdir(wav_dir+wav_label):\n",
    "        print(\"-->%s \"%wav_f, end = \"               \\r\")\n",
    "####작동안되서 폐기--> SampleFreq, f = wvf.read(wav_dir+wav_label+'/' +  wav_f)\n",
    "        f, SampleFreq = sf.read(wav_dir+wav_label+'/' +  wav_f) \n",
    "        N_total = len(f)\n",
    "        N_cut = SampleFreq*5\n",
    "        audio_data = f[N_cut:N_total-N_cut]\n",
    "        N = len(audio_data)\n",
    "        x.append(audio_data)\n",
    "#         if wav_label == 'pop':\n",
    "#             y.append([1,0,0,0])\n",
    "#         elif wav_label == 'classical':\n",
    "#             y.append([0,1,0,0])\n",
    "#         elif wav_label == 'jazz':\n",
    "#             y.append([0,0,1,0])\n",
    "#         else :\n",
    "#             y.append([0,0,0,1])\n",
    "    print(\"                     \\r--> ok!\")\n",
    "music = np.array(x) / (2.**15)\n",
    "label = np.array(y)"
   ]
  },
  {
   "cell_type": "markdown",
   "metadata": {},
   "source": [
    "## 전처리코드\n",
    "- 스피치 전저리코드 설명(mfcc)\n",
    "  - https://github.com/jameslyons/python_speech_features"
   ]
  },
  {
   "cell_type": "code",
   "execution_count": 59,
   "metadata": {
    "scrolled": true
   },
   "outputs": [
    {
     "name": "stdout",
     "output_type": "stream",
     "text": [
      "전처리할 항목 갯수 :  1000\n",
      "Extracting MFCC : Complete!999\n"
     ]
    }
   ],
   "source": [
    "from python_speech_features import mfcc, logfbank\n",
    "\n",
    "def round_half_up(number):\n",
    "    return int(decimal.Decimal(number).quantize(decimal.Decimal('1'), rounding=decimal.ROUND_HALF_UP))\n",
    "\n",
    "#MFCC 추출을 위한 파라미터 값을 정의합니다.\n",
    "samplerate = SampleFreq\n",
    "winlen = 0.02\n",
    "winstep = 0.01\n",
    "numcep = 15\n",
    "nfilt = 26\n",
    "frame_len = int(round_half_up(winlen * samplerate))\n",
    "nfft = frame_len\n",
    "lowfreq = 0\n",
    "highfreq = None\n",
    "preemph = 0.97\n",
    "ceplifter = 22\n",
    "appendEnergy = True\n",
    "winfunc = lambda x:np.hamming(x)\n",
    "\n",
    "dnn_feat = []\n",
    "\n",
    "def normalize(a):\n",
    "    b = (a-np.mean(a))/np.std(a)\n",
    "    return b\n",
    "\n",
    "# MFCC를 추출\n",
    "print(\"전처리할 항목 갯수 :\",len(music))\n",
    "for i in arange(len(music)):\n",
    "    mfcc_feat = mfcc(music[i], samplerate, winlen, winstep, numcep, nfilt, nfft, lowfreq, highfreq, preemph, ceplifter, appendEnergy, winfunc)\n",
    "    print(\"Extracting MFCC.. now step %d\"%(i),end=\"\\r\")\n",
    "    mfcc_feat = np.apply_along_axis(normalize,1,mfcc_feat)\n",
    "    feat_mean = np.mean(mfcc_feat, axis = 0)\n",
    "    feat_cov = np.cov(mfcc_feat,rowvar=0)\n",
    "    feat_cov_up = np.triu(feat_cov, k=0)\n",
    "    feat_flat = feat_cov_up.flatten()\n",
    "    index = arange(len(feat_flat))[feat_flat==0]\n",
    "    feat_cov = list(np.delete(feat_flat,index))\n",
    "    feat = []\n",
    "    feat.extend(feat_mean)\n",
    "    feat.extend(feat_cov)\n",
    "    dnn_feat.append(feat)\n",
    "    \n",
    "dnn_feat = np.array(dnn_feat)\n",
    "print(\"\\rExtracting MFCC : Complete!\")"
   ]
  },
  {
   "cell_type": "markdown",
   "metadata": {},
   "source": [
    "# TensorFlow 코드"
   ]
  },
  {
   "cell_type": "code",
   "execution_count": 141,
   "metadata": {},
   "outputs": [],
   "source": [
    "# 데이터셋제작 및  분류\n",
    "\n",
    "N_music = len(dnn_feat)\n",
    "N_train = int(ceil(N_music * 0.70))\n",
    "x_datas = dnn_feat\n",
    "y_datas = y\n",
    "\n",
    "# N_music = len(dnn_feat)\n",
    "# N_train = int(ceil(N_music * 0.70))\n",
    "# idx = np.random.choice(N_music, N_train, replace=False)\n",
    "# x_train = dnn_feat[idx]\n",
    "# y_train = label[idx]\n",
    "\n",
    "# test_idx = np.delete(arange(N_music),idx)\n",
    "# x_test = dnn_feat[test_idx]\n",
    "# y_test = label[test_idx]\n",
    "\n",
    "\n",
    "from sklearn.model_selection import train_test_split\n",
    "x_train, x_test, y_train_tmp, y_test_tmp = train_test_split(x_datas, y_datas, test_size=0.3, random_state=0)\n",
    "\n",
    "from keras.utils import np_utils\n",
    "y_train = np_utils.to_categorical(y_train_tmp, 10)\n",
    "y_test = np_utils.to_categorical(y_test_tmp, 10)"
   ]
  },
  {
   "cell_type": "code",
   "execution_count": 170,
   "metadata": {},
   "outputs": [],
   "source": [
    "# DNN구축\n",
    "import tensorflow as tf\n",
    "\n",
    "num_feat = len(dnn_feat[0,:])\n",
    "num_classes = len(set(label))\n",
    "\n",
    "x = tf.placeholder(tf.float32, [None, num_feat])\n",
    "y_ = tf.placeholder(tf.float32, [None, num_classes])"
   ]
  },
  {
   "cell_type": "markdown",
   "metadata": {},
   "source": [
    "### 학습 레이어정의"
   ]
  },
  {
   "cell_type": "code",
   "execution_count": 171,
   "metadata": {},
   "outputs": [],
   "source": [
    "def weight_variable(shape):\n",
    "    initial = tf.truncated_normal(shape, stddev=0.1)\n",
    "    return tf.Variable(initial)\n",
    "\n",
    "def bias_variable(shape):\n",
    "    initial = tf.constant(0,1,shape=shape)\n",
    "    return tf.Variable(initial)\n",
    "\n",
    "num_neuron = 25\n",
    "\n",
    "# 첫번째 레이어\n",
    "W_1 = weight_variable([num_feat, num_neuron])\n",
    "b_1 = bias_variable([num_neuron])\n",
    "\n",
    "# 드랍아웃 정의\n",
    "keep_prob = tf.placeholder(\"float\")\n",
    "W_1_drop = tf.nn.dropout(W_1, keep_prob)\n",
    "\n",
    "# Relu 함수 정의\n",
    "h_1 = tf.nn.relu(tf.matmul(x,W_1_drop)+b_1)\n",
    "\n",
    "# 두번째 레이어\n",
    "W_2 = weight_variable([num_neuron, num_classes])\n",
    "b_2 = bias_variable([num_classes])\n",
    "\n",
    "y = tf.nn.softmax(tf.matmul(h_1,W_2)+b_2)"
   ]
  },
  {
   "cell_type": "markdown",
   "metadata": {},
   "source": [
    "### 학습하기\n",
    "- 결론 : 드롭아웃을위해 모델훈련간 0.5의확률을 지정, 모델평가결과 정확도는 약93%로 높은 수치를 기록했음을 알수 있습니다."
   ]
  },
  {
   "cell_type": "code",
   "execution_count": null,
   "metadata": {},
   "outputs": [],
   "source": [
    "# 학습 초기화\n",
    "import time\n",
    "cross_entropy = tf.reduce_mean(-tf.reduce_sum(y_ * tf.log(y), reduction_indices=[1]))\n",
    "train_step = tf.train.AdamOptimizer(1e-4).minimize(cross_entropy)\n",
    "correct_prediction = tf.equal(tf.argmax(y,1), tf.argmax(y_,1))\n",
    "accuracy = tf.reduce_mean(tf.cast(correct_prediction, tf.float32))\n",
    "\n",
    "sess = tf.Session()\n",
    "sess.run(tf.initialize_all_variables())"
   ]
  },
  {
   "cell_type": "code",
   "execution_count": 174,
   "metadata": {},
   "outputs": [
    {
     "name": "stdout",
     "output_type": "stream",
     "text": [
      "=============== Session start! ==================\n",
      "step    0, 0.01sec, acc : 0.8471, cost : 1.7195, val_acc : 0.6533\n",
      "step  100, 0.35sec, acc : 0.8471, cost : 1.7180, val_acc : 0.6667\n",
      "step  200, 0.34sec, acc : 0.8443, cost : 1.7156, val_acc : 0.6567\n",
      "step  300, 0.42sec, acc : 0.8529, cost : 1.7117, val_acc : 0.6667\n",
      "step  400, 0.41sec, acc : 0.8457, cost : 1.7114, val_acc : 0.6700\n",
      "step  500, 0.33sec, acc : 0.8486, cost : 1.7079, val_acc : 0.6633\n",
      "step  600, 0.35sec, acc : 0.8457, cost : 1.7058, val_acc : 0.6667\n",
      "step  700, 0.41sec, acc : 0.8457, cost : 1.7037, val_acc : 0.6667\n",
      "step  800, 0.36sec, acc : 0.8514, cost : 1.7019, val_acc : 0.6667\n",
      "step  900, 0.35sec, acc : 0.8529, cost : 1.6994, val_acc : 0.6667\n",
      "step 1000, 0.39sec, acc : 0.8486, cost : 1.6977, val_acc : 0.6667\n",
      "step 1100, 0.34sec, acc : 0.8500, cost : 1.6958, val_acc : 0.6633\n",
      "step 1200, 0.32sec, acc : 0.8514, cost : 1.6943, val_acc : 0.6567\n",
      "step 1300, 0.32sec, acc : 0.8529, cost : 1.6914, val_acc : 0.6667\n",
      "step 1400, 0.33sec, acc : 0.8486, cost : 1.6905, val_acc : 0.6700\n",
      "step 1500, 0.32sec, acc : 0.8529, cost : 1.6890, val_acc : 0.6700\n",
      "step 1600, 0.35sec, acc : 0.8571, cost : 1.6840, val_acc : 0.6667\n",
      "step 1700, 0.44sec, acc : 0.8586, cost : 1.6826, val_acc : 0.6633\n",
      "step 1800, 0.38sec, acc : 0.8529, cost : 1.6802, val_acc : 0.6767\n",
      "step 1900, 0.42sec, acc : 0.8557, cost : 1.6788, val_acc : 0.6733\n",
      "step 2000, 0.39sec, acc : 0.8557, cost : 1.6764, val_acc : 0.6733\n",
      "step 2100, 0.36sec, acc : 0.8557, cost : 1.6763, val_acc : 0.6767\n",
      "step 2200, 0.36sec, acc : 0.8614, cost : 1.6729, val_acc : 0.6633\n",
      "step 2300, 0.36sec, acc : 0.8543, cost : 1.6725, val_acc : 0.6700\n",
      "step 2400, 0.32sec, acc : 0.8543, cost : 1.6699, val_acc : 0.6800\n",
      "step 2500, 0.36sec, acc : 0.8557, cost : 1.6677, val_acc : 0.6667\n",
      "step 2600, 0.34sec, acc : 0.8614, cost : 1.6652, val_acc : 0.6633\n",
      "step 2700, 0.32sec, acc : 0.8614, cost : 1.6634, val_acc : 0.6733\n",
      "step 2800, 0.33sec, acc : 0.8629, cost : 1.6619, val_acc : 0.6633\n",
      "step 2900, 0.33sec, acc : 0.8614, cost : 1.6591, val_acc : 0.6767\n",
      "step 3000, 0.34sec, acc : 0.8614, cost : 1.6581, val_acc : 0.6767\n",
      "step 3100, 0.38sec, acc : 0.8643, cost : 1.6559, val_acc : 0.6667\n",
      "step 3200, 0.35sec, acc : 0.8643, cost : 1.6537, val_acc : 0.6700\n",
      "step 3300, 0.34sec, acc : 0.8600, cost : 1.6520, val_acc : 0.6700\n",
      "step 3400, 0.37sec, acc : 0.8686, cost : 1.6514, val_acc : 0.6633\n",
      "step 3500, 0.36sec, acc : 0.8629, cost : 1.6491, val_acc : 0.6700\n",
      "step 3600, 0.33sec, acc : 0.8614, cost : 1.6475, val_acc : 0.6667\n",
      "step 3700, 0.35sec, acc : 0.8629, cost : 1.6449, val_acc : 0.6733\n",
      "step 3800, 0.32sec, acc : 0.8600, cost : 1.6442, val_acc : 0.6633\n",
      "step 3900, 0.35sec, acc : 0.8657, cost : 1.6419, val_acc : 0.6700\n",
      "step 4000, 0.32sec, acc : 0.8629, cost : 1.6411, val_acc : 0.6600\n",
      "step 4100, 0.35sec, acc : 0.8671, cost : 1.6382, val_acc : 0.6700\n",
      "step 4200, 0.39sec, acc : 0.8657, cost : 1.6369, val_acc : 0.6700\n",
      "step 4300, 0.36sec, acc : 0.8657, cost : 1.6339, val_acc : 0.6600\n",
      "step 4400, 0.33sec, acc : 0.8686, cost : 1.6325, val_acc : 0.6633\n",
      "step 4500, 0.34sec, acc : 0.8657, cost : 1.6329, val_acc : 0.6667\n",
      "step 4600, 0.32sec, acc : 0.8729, cost : 1.6297, val_acc : 0.6667\n",
      "step 4700, 0.33sec, acc : 0.8700, cost : 1.6273, val_acc : 0.6667\n",
      "step 4800, 0.35sec, acc : 0.8657, cost : 1.6265, val_acc : 0.6700\n",
      "step 4900, 0.34sec, acc : 0.8700, cost : 1.6237, val_acc : 0.6667\n",
      "step 5000, 0.34sec, acc : 0.8686, cost : 1.6215, val_acc : 0.6667\n",
      "step 5100, 0.35sec, acc : 0.8757, cost : 1.6217, val_acc : 0.6667\n",
      "step 5200, 0.33sec, acc : 0.8700, cost : 1.6203, val_acc : 0.6733\n",
      "step 5300, 0.32sec, acc : 0.8714, cost : 1.6190, val_acc : 0.6700\n",
      "step 5400, 0.34sec, acc : 0.8729, cost : 1.6173, val_acc : 0.6667\n",
      "step 5500, 0.34sec, acc : 0.8757, cost : 1.6150, val_acc : 0.6700\n",
      "step 5600, 0.32sec, acc : 0.8714, cost : 1.6129, val_acc : 0.6667\n",
      "step 5700, 0.35sec, acc : 0.8771, cost : 1.6129, val_acc : 0.6633\n",
      "step 5800, 0.32sec, acc : 0.8729, cost : 1.6093, val_acc : 0.6700\n",
      "step 5900, 0.33sec, acc : 0.8686, cost : 1.6088, val_acc : 0.6633\n",
      "step 6000, 0.38sec, acc : 0.8714, cost : 1.6063, val_acc : 0.6633\n",
      "step 6100, 0.34sec, acc : 0.8743, cost : 1.6055, val_acc : 0.6667\n",
      "step 6200, 0.33sec, acc : 0.8757, cost : 1.6032, val_acc : 0.6700\n",
      "step 6300, 0.35sec, acc : 0.8757, cost : 1.6026, val_acc : 0.6667\n",
      "step 6400, 0.33sec, acc : 0.8686, cost : 1.6021, val_acc : 0.6567\n",
      "step 6500, 0.32sec, acc : 0.8771, cost : 1.6015, val_acc : 0.6700\n",
      "step 6600, 0.38sec, acc : 0.8757, cost : 1.5988, val_acc : 0.6733\n",
      "step 6700, 0.35sec, acc : 0.8729, cost : 1.5993, val_acc : 0.6667\n",
      "step 6800, 0.35sec, acc : 0.8757, cost : 1.5963, val_acc : 0.6633\n",
      "step 6900, 0.34sec, acc : 0.8714, cost : 1.5942, val_acc : 0.6667\n",
      "step 7000, 0.33sec, acc : 0.8771, cost : 1.5935, val_acc : 0.6667\n",
      "step 7100, 0.35sec, acc : 0.8771, cost : 1.5904, val_acc : 0.6600\n",
      "step 7200, 0.34sec, acc : 0.8743, cost : 1.5899, val_acc : 0.6667\n",
      "step 7300, 0.33sec, acc : 0.8800, cost : 1.5878, val_acc : 0.6733\n",
      "step 7400, 0.35sec, acc : 0.8800, cost : 1.5878, val_acc : 0.6667\n",
      "step 7500, 0.34sec, acc : 0.8786, cost : 1.5852, val_acc : 0.6667\n",
      "step 7600, 0.33sec, acc : 0.8786, cost : 1.5852, val_acc : 0.6667\n",
      "step 7700, 0.36sec, acc : 0.8814, cost : 1.5824, val_acc : 0.6667\n",
      "step 7800, 0.39sec, acc : 0.8829, cost : 1.5807, val_acc : 0.6700\n",
      "step 7900, 0.44sec, acc : 0.8871, cost : 1.5804, val_acc : 0.6633\n",
      "step 8000, 0.38sec, acc : 0.8786, cost : 1.5786, val_acc : 0.6700\n",
      "step 8100, 0.44sec, acc : 0.8857, cost : 1.5770, val_acc : 0.6600\n",
      "step 8200, 0.41sec, acc : 0.8843, cost : 1.5771, val_acc : 0.6633\n",
      "step 8300, 0.44sec, acc : 0.8871, cost : 1.5745, val_acc : 0.6700\n",
      "step 8400, 0.49sec, acc : 0.8800, cost : 1.5757, val_acc : 0.6600\n",
      "step 8500, 0.40sec, acc : 0.8814, cost : 1.5719, val_acc : 0.6600\n",
      "step 8600, 0.35sec, acc : 0.8857, cost : 1.5698, val_acc : 0.6700\n",
      "step 8700, 0.44sec, acc : 0.8843, cost : 1.5694, val_acc : 0.6700\n",
      "step 8800, 0.38sec, acc : 0.8843, cost : 1.5683, val_acc : 0.6700\n",
      "step 8900, 0.36sec, acc : 0.8857, cost : 1.5666, val_acc : 0.6667\n",
      "step 9000, 0.36sec, acc : 0.8886, cost : 1.5649, val_acc : 0.6600\n",
      "step 9100, 0.36sec, acc : 0.8843, cost : 1.5637, val_acc : 0.6667\n",
      "step 9200, 0.39sec, acc : 0.8886, cost : 1.5640, val_acc : 0.6667\n",
      "step 9300, 0.37sec, acc : 0.8871, cost : 1.5606, val_acc : 0.6700\n",
      "step 9400, 0.37sec, acc : 0.8929, cost : 1.5604, val_acc : 0.6600\n",
      "step 9500, 0.36sec, acc : 0.8886, cost : 1.5592, val_acc : 0.6700\n",
      "step 9600, 0.32sec, acc : 0.8929, cost : 1.5573, val_acc : 0.6633\n",
      "step 9700, 0.38sec, acc : 0.8871, cost : 1.5558, val_acc : 0.6700\n",
      "step 9800, 0.37sec, acc : 0.8914, cost : 1.5543, val_acc : 0.6667\n",
      "step 9900, 0.38sec, acc : 0.8900, cost : 1.5546, val_acc : 0.6700\n",
      "test accuracy 0.6600\n",
      "wall time : 36 sec\n"
     ]
    }
   ],
   "source": [
    "print(\"=============== Session start! ==================\")\n",
    "walltime = time.time()\n",
    "epoch_time = walltime\n",
    "for i in range(10000):\n",
    "    if i%100 == 0:\n",
    "        train_accuracy = sess.run(accuracy, feed_dict={x: x_train, y_:y_train, keep_prob:1.0})\n",
    "        test_accuracy = sess.run(accuracy,{x: x_test, y_:y_test, keep_prob:1.0})\n",
    "        print(\"step %4d, %.2fsec, acc : %.4f\"%(i, time.time()-epoch_time, train_accuracy), end=\", \")\n",
    "        train_cost = np.exp(sess.run(cross_entropy, feed_dict={x: x_train, y_:y_train, keep_prob:1.0}))\n",
    "        print(\"cost : %.4f, val_acc : %.4f\"%(train_cost,test_accuracy))\n",
    "        epoch_time = time.time()\n",
    "    #본 훈련!\n",
    "    sess.run(train_step, {x: x_train, y_:y_train, keep_prob:0.6})\n",
    "\n",
    "print(\"test accuracy %.4f\"% sess.run(accuracy,{x: x_test, y_:y_test, keep_prob:1.0}))\n",
    "print(\"wall time : %d sec\"%(time.time()-walltime))"
   ]
  },
  {
   "cell_type": "code",
   "execution_count": 175,
   "metadata": {},
   "outputs": [
    {
     "data": {
      "text/plain": [
       "array([9, 8, 0, 5, 6, 8, 0, 2, 9, 7, 4, 5, 7, 3, 5, 0, 0, 1, 0, 0, 0, 0,\n",
       "       3, 9, 0, 7, 0, 5, 7, 9, 3, 2, 6, 7, 4, 7, 3, 3, 9, 0, 1, 9, 6, 6,\n",
       "       2, 2, 8, 1, 3, 5, 8, 2, 2, 3, 9, 3, 2, 3, 6, 8, 5, 6, 1, 7, 8, 1,\n",
       "       9, 5, 2, 5, 7, 2, 2, 2, 9, 3, 3, 7, 6, 6, 2, 4, 9, 3, 5, 6, 2, 5,\n",
       "       4, 4, 8, 4, 9, 2, 8, 4, 5, 1, 3, 6, 7, 4, 0, 8, 3, 6, 6, 4, 3, 7,\n",
       "       2, 8, 4, 5, 0, 4, 5, 3, 4, 5, 7, 9, 1, 2, 0, 8, 3, 2, 7, 9, 6, 6,\n",
       "       5, 2, 5, 6, 8, 0, 5, 8, 1, 6, 5, 2, 0, 8, 6, 3, 0, 0, 2, 9, 4, 7,\n",
       "       9, 1, 4, 3, 8, 4, 5, 3, 0, 8, 9, 3, 9, 4, 6, 4, 1, 7, 1, 8, 4, 7,\n",
       "       4, 6, 3, 1, 7, 9, 4, 3, 0, 9, 7, 4, 7, 2, 8, 8, 4, 0, 5, 6, 7, 2,\n",
       "       6, 1, 6, 1, 8, 9, 8, 6, 8, 5, 5, 3, 1, 6, 5, 2, 4, 6, 1, 2, 0, 5,\n",
       "       0, 5, 0, 2, 4, 2, 6, 5, 0, 3, 0, 8, 6, 7, 0, 6, 6, 1, 7, 1, 5, 8,\n",
       "       3, 3, 6, 4, 3, 0, 4, 6, 3, 6, 0, 0, 8, 7, 3, 4, 0, 0, 7, 7, 8, 1,\n",
       "       8, 6, 7, 4, 5, 4, 3, 5, 0, 1, 8, 2, 2, 5, 8, 1, 9, 4, 9, 8, 2, 0,\n",
       "       4, 8, 2, 2, 6, 2, 7, 9, 7, 1, 9, 3, 4, 5], dtype=int64)"
      ]
     },
     "execution_count": 175,
     "metadata": {},
     "output_type": "execute_result"
    }
   ],
   "source": [
    "# y_pred = y\n",
    "y_pred = sess.run(tf.argmax(y,1),feed_dict={x: x_test, keep_prob:1.0})\n",
    "y_pred"
   ]
  },
  {
   "cell_type": "code",
   "execution_count": 176,
   "metadata": {
    "scrolled": true
   },
   "outputs": [
    {
     "name": "stderr",
     "output_type": "stream",
     "text": [
      "C:\\Users\\creal\\Anaconda3\\lib\\site-packages\\sklearn\\preprocessing\\label.py:151: DeprecationWarning: The truth value of an empty array is ambiguous. Returning False, but in future this will result in an error. Use `array.size > 0` to check that an array is not empty.\n",
      "  if diff:\n"
     ]
    },
    {
     "data": {
      "text/plain": [
       "array(['rock', 'reggae', 'blues', 'jazz', 'metal', 'reggae', 'blues',\n",
       "       'country', 'rock', 'pop', 'hiphop', 'jazz', 'pop', 'disco', 'jazz',\n",
       "       'blues', 'blues', 'classical', 'blues', 'blues', 'blues', 'blues',\n",
       "       'disco', 'rock', 'blues', 'pop', 'blues', 'jazz', 'pop', 'rock',\n",
       "       'disco', 'country', 'metal', 'pop', 'hiphop', 'pop', 'disco',\n",
       "       'disco', 'rock', 'blues', 'classical', 'rock', 'metal', 'metal',\n",
       "       'country', 'country', 'reggae', 'classical', 'disco', 'jazz',\n",
       "       'reggae', 'country', 'country', 'disco', 'rock', 'disco',\n",
       "       'country', 'disco', 'metal', 'reggae', 'jazz', 'metal',\n",
       "       'classical', 'pop', 'reggae', 'classical', 'rock', 'jazz',\n",
       "       'country', 'jazz', 'pop', 'country', 'country', 'country', 'rock',\n",
       "       'disco', 'disco', 'pop', 'metal', 'metal', 'country', 'hiphop',\n",
       "       'rock', 'disco', 'jazz', 'metal', 'country', 'jazz', 'hiphop',\n",
       "       'hiphop', 'reggae', 'hiphop', 'rock', 'country', 'reggae',\n",
       "       'hiphop', 'jazz', 'classical', 'disco', 'metal', 'pop', 'hiphop',\n",
       "       'blues', 'reggae', 'disco', 'metal', 'metal', 'hiphop', 'disco',\n",
       "       'pop', 'country', 'reggae', 'hiphop', 'jazz', 'blues', 'hiphop',\n",
       "       'jazz', 'disco', 'hiphop', 'jazz', 'pop', 'rock', 'classical',\n",
       "       'country', 'blues', 'reggae', 'disco', 'country', 'pop', 'rock',\n",
       "       'metal', 'metal', 'jazz', 'country', 'jazz', 'metal', 'reggae',\n",
       "       'blues', 'jazz', 'reggae', 'classical', 'metal', 'jazz', 'country',\n",
       "       'blues', 'reggae', 'metal', 'disco', 'blues', 'blues', 'country',\n",
       "       'rock', 'hiphop', 'pop', 'rock', 'classical', 'hiphop', 'disco',\n",
       "       'reggae', 'hiphop', 'jazz', 'disco', 'blues', 'reggae', 'rock',\n",
       "       'disco', 'rock', 'hiphop', 'metal', 'hiphop', 'classical', 'pop',\n",
       "       'classical', 'reggae', 'hiphop', 'pop', 'hiphop', 'metal', 'disco',\n",
       "       'classical', 'pop', 'rock', 'hiphop', 'disco', 'blues', 'rock',\n",
       "       'pop', 'hiphop', 'pop', 'country', 'reggae', 'reggae', 'hiphop',\n",
       "       'blues', 'jazz', 'metal', 'pop', 'country', 'metal', 'classical',\n",
       "       'metal', 'classical', 'reggae', 'rock', 'reggae', 'metal',\n",
       "       'reggae', 'jazz', 'jazz', 'disco', 'classical', 'metal', 'jazz',\n",
       "       'country', 'hiphop', 'metal', 'classical', 'country', 'blues',\n",
       "       'jazz', 'blues', 'jazz', 'blues', 'country', 'hiphop', 'country',\n",
       "       'metal', 'jazz', 'blues', 'disco', 'blues', 'reggae', 'metal',\n",
       "       'pop', 'blues', 'metal', 'metal', 'classical', 'pop', 'classical',\n",
       "       'jazz', 'reggae', 'disco', 'disco', 'metal', 'hiphop', 'disco',\n",
       "       'blues', 'hiphop', 'metal', 'disco', 'metal', 'blues', 'blues',\n",
       "       'reggae', 'pop', 'disco', 'hiphop', 'blues', 'blues', 'pop', 'pop',\n",
       "       'reggae', 'classical', 'reggae', 'metal', 'pop', 'hiphop', 'jazz',\n",
       "       'hiphop', 'disco', 'jazz', 'blues', 'classical', 'reggae',\n",
       "       'country', 'country', 'jazz', 'reggae', 'classical', 'rock',\n",
       "       'hiphop', 'rock', 'reggae', 'country', 'blues', 'hiphop', 'reggae',\n",
       "       'country', 'country', 'metal', 'country', 'pop', 'rock', 'pop',\n",
       "       'classical', 'rock', 'disco', 'hiphop', 'jazz'], dtype='<U9')"
      ]
     },
     "execution_count": 176,
     "metadata": {},
     "output_type": "execute_result"
    }
   ],
   "source": [
    "le.inverse_transform(y_pred)"
   ]
  }
 ],
 "metadata": {
  "kernelspec": {
   "display_name": "Python 3",
   "language": "python",
   "name": "python3"
  },
  "language_info": {
   "codemirror_mode": {
    "name": "ipython",
    "version": 3
   },
   "file_extension": ".py",
   "mimetype": "text/x-python",
   "name": "python",
   "nbconvert_exporter": "python",
   "pygments_lexer": "ipython3",
   "version": "3.6.5"
  }
 },
 "nbformat": 4,
 "nbformat_minor": 2
}
